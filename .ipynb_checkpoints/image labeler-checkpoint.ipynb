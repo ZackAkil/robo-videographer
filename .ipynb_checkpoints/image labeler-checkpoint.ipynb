{
 "cells": [
  {
   "cell_type": "code",
   "execution_count": 1,
   "metadata": {
    "collapsed": true
   },
   "outputs": [],
   "source": [
    "from os import listdir\n",
    "from os.path import isfile, join\n",
    "import pandas as pd"
   ]
  },
  {
   "cell_type": "code",
   "execution_count": 2,
   "metadata": {
    "collapsed": true
   },
   "outputs": [],
   "source": [
    "my_path = '/Users/zackakil/Desktop/capture'\n",
    "pos_store = {}"
   ]
  },
  {
   "cell_type": "code",
   "execution_count": 37,
   "metadata": {
    "collapsed": true
   },
   "outputs": [],
   "source": [
    "def get_file_names(folder_name):\n",
    "    onlyfiles = [f for f in listdir(folder_name) if isfile(join(folder_name, f))]\n",
    "    file_names = pd.Series(onlyfiles)\n",
    "    return file_names[file_names.str.contains('jpg')].sort_values()\n",
    "\n",
    "def get_index(images, file_name):\n",
    "    return images[images == file_name].index[0]\n",
    "\n",
    "def get_next_file_name(images, file_name, step=1):\n",
    "    i = get_index(images, file_name)\n",
    "    return images.loc[i+step]\n",
    "\n",
    "def set_image_pos_value(file_name, pos_value):\n",
    "    pos_store[file_name] = pos_value\n",
    "    \n",
    "def get_image_pos_value(file_name):\n",
    "    return pos_store['file_name']\n",
    "\n",
    "def get_latest_unlabeled_image_file_name(pos_store, file_names):\n",
    "    for f in file_names:\n",
    "        if f not in pos_store.keys():\n",
    "            return f\n",
    "        \n",
    "def save_labels(labels_dict, file_name):\n",
    "    pd.Series(labels_dict).to_csv(file_name)\n",
    "    \n",
    "def load_labels(file_name):\n",
    "    label_sr = pd.Series().from_csv(file_name)\n",
    "    return label_sr.to_dict()"
   ]
  },
  {
   "cell_type": "code",
   "execution_count": 4,
   "metadata": {
    "collapsed": false
   },
   "outputs": [],
   "source": [
    "images = get_file_names(my_path)"
   ]
  },
  {
   "cell_type": "code",
   "execution_count": 21,
   "metadata": {
    "collapsed": true
   },
   "outputs": [],
   "source": [
    "for i in range(10):\n",
    "    set_image_pos_value('14893d561e24.7s{0}.jpg'.format(i), i*10)"
   ]
  },
  {
   "cell_type": "code",
   "execution_count": 24,
   "metadata": {
    "collapsed": false
   },
   "outputs": [
    {
     "data": {
      "text/plain": [
       "{'14893d561e24.7s0.jpg': 0,\n",
       " '14893d561e24.7s1.jpg': 10,\n",
       " '14893d561e24.7s2.jpg': 20,\n",
       " '14893d561e24.7s3.jpg': 30,\n",
       " '14893d561e24.7s4.jpg': 40,\n",
       " '14893d561e24.7s5.jpg': 50,\n",
       " '14893d561e24.7s6.jpg': 60,\n",
       " '14893d561e24.7s7.jpg': 70,\n",
       " '14893d561e24.7s8.jpg': 80,\n",
       " '14893d561e24.7s9.jpg': 90}"
      ]
     },
     "execution_count": 24,
     "metadata": {},
     "output_type": "execute_result"
    }
   ],
   "source": [
    "pos_store"
   ]
  },
  {
   "cell_type": "code",
   "execution_count": 25,
   "metadata": {
    "collapsed": false
   },
   "outputs": [
    {
     "data": {
      "text/plain": [
       "'1489356109.51.jpg'"
      ]
     },
     "execution_count": 25,
     "metadata": {},
     "output_type": "execute_result"
    }
   ],
   "source": [
    "get_latest_unlabeled_image_file_name(pos_store, images)"
   ]
  },
  {
   "cell_type": "code",
   "execution_count": 26,
   "metadata": {
    "collapsed": false
   },
   "outputs": [
    {
     "data": {
      "text/plain": [
       "'1489356118.0.jpg'"
      ]
     },
     "execution_count": 26,
     "metadata": {},
     "output_type": "execute_result"
    }
   ],
   "source": [
    "get_next_file_name(images,'1489356117.16.jpg')"
   ]
  },
  {
   "cell_type": "code",
   "execution_count": 35,
   "metadata": {
    "collapsed": true
   },
   "outputs": [],
   "source": [
    "save_labels(pos_store, 'tes.csv')"
   ]
  },
  {
   "cell_type": "code",
   "execution_count": 36,
   "metadata": {
    "collapsed": false
   },
   "outputs": [
    {
     "data": {
      "text/plain": [
       "{'14893d561e24.7s0.jpg': 0,\n",
       " '14893d561e24.7s1.jpg': 10,\n",
       " '14893d561e24.7s2.jpg': 20,\n",
       " '14893d561e24.7s3.jpg': 30,\n",
       " '14893d561e24.7s4.jpg': 40,\n",
       " '14893d561e24.7s5.jpg': 50,\n",
       " '14893d561e24.7s6.jpg': 60,\n",
       " '14893d561e24.7s7.jpg': 70,\n",
       " '14893d561e24.7s8.jpg': 80,\n",
       " '14893d561e24.7s9.jpg': 90}"
      ]
     },
     "execution_count": 36,
     "metadata": {},
     "output_type": "execute_result"
    }
   ],
   "source": [
    "load_labels('tes.csv')"
   ]
  },
  {
   "cell_type": "code",
   "execution_count": 38,
   "metadata": {
    "collapsed": true
   },
   "outputs": [],
   "source": [
    "import datetime"
   ]
  },
  {
   "cell_type": "code",
   "execution_count": 47,
   "metadata": {
    "collapsed": false
   },
   "outputs": [
    {
     "data": {
      "text/plain": [
       "'2017-03-22 11:07'"
      ]
     },
     "execution_count": 47,
     "metadata": {},
     "output_type": "execute_result"
    }
   ],
   "source": [
    "str(datetime.datetime.now())[:16]"
   ]
  },
  {
   "cell_type": "code",
   "execution_count": null,
   "metadata": {
    "collapsed": true
   },
   "outputs": [],
   "source": []
  }
 ],
 "metadata": {
  "anaconda-cloud": {},
  "kernelspec": {
   "display_name": "Python 3",
   "language": "python",
   "name": "python3"
  },
  "language_info": {
   "codemirror_mode": {
    "name": "ipython",
    "version": 3
   },
   "file_extension": ".py",
   "mimetype": "text/x-python",
   "name": "python",
   "nbconvert_exporter": "python",
   "pygments_lexer": "ipython3",
   "version": "3.5.2"
  }
 },
 "nbformat": 4,
 "nbformat_minor": 1
}
