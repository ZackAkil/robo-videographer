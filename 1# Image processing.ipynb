{
 "cells": [
  {
   "cell_type": "code",
   "execution_count": 1,
   "metadata": {
    "collapsed": false
   },
   "outputs": [
    {
     "name": "stdout",
     "output_type": "stream",
     "text": [
      "Using matplotlib backend: MacOSX\n"
     ]
    }
   ],
   "source": [
    "%matplotlib\n",
    "import seaborn as sns\n",
    "import numpy as np\n",
    "import matplotlib.pyplot as plt\n",
    "import matplotlib.animation as animation\n",
    "import pandas as pd\n",
    "from PIL import Image\n",
    "from scipy import ndimage\n",
    "from scipy import misc\n",
    "\n",
    "from sklearn.datasets import fetch_mldata\n",
    "from sklearn.neural_network import MLPRegressor"
   ]
  },
  {
   "cell_type": "code",
   "execution_count": 2,
   "metadata": {
    "collapsed": true
   },
   "outputs": [],
   "source": [
    "IMAGE_FOLDER_PATH = \"/Users/zackakil/Desktop/capture clean/\""
   ]
  },
  {
   "cell_type": "code",
   "execution_count": 3,
   "metadata": {
    "collapsed": true
   },
   "outputs": [],
   "source": [
    "image_labels = pd.Series.from_csv('rugby_image_labels.csv')\n",
    "image_labels = image_labels.dropna()"
   ]
  },
  {
   "cell_type": "code",
   "execution_count": 4,
   "metadata": {
    "collapsed": false
   },
   "outputs": [
    {
     "data": {
      "text/plain": [
       "'1489359202.14.jpg'"
      ]
     },
     "execution_count": 4,
     "metadata": {},
     "output_type": "execute_result"
    }
   ],
   "source": [
    "image_labels.keys()[0]"
   ]
  },
  {
   "cell_type": "code",
   "execution_count": 5,
   "metadata": {
    "collapsed": false
   },
   "outputs": [],
   "source": [
    "output = {}\n",
    "\n",
    "face = misc.imread(IMAGE_FOLDER_PATH+image_labels.keys()[0], flatten=True)\n",
    "face1 = misc.imread(IMAGE_FOLDER_PATH+image_labels.keys()[1], flatten=True)     \n",
    "plt.imshow((face[200:300] - face1[200:300])>30)\n",
    "plt.show()"
   ]
  },
  {
   "cell_type": "code",
   "execution_count": 6,
   "metadata": {
    "collapsed": false
   },
   "outputs": [],
   "source": [
    "face1 = misc.imread(IMAGE_FOLDER_PATH+image_labels.keys()[1])     \n",
    "plt.imshow(face/255)\n",
    "plt.show()"
   ]
  },
  {
   "cell_type": "code",
   "execution_count": 9,
   "metadata": {
    "collapsed": false
   },
   "outputs": [
    {
     "ename": "NameError",
     "evalue": "name 'image_matrix' is not defined",
     "output_type": "error",
     "traceback": [
      "\u001b[0;31m---------------------------------------------------------------------------\u001b[0m",
      "\u001b[0;31mNameError\u001b[0m                                 Traceback (most recent call last)",
      "\u001b[0;32m<ipython-input-9-c2120530378f>\u001b[0m in \u001b[0;36m<module>\u001b[0;34m()\u001b[0m\n\u001b[1;32m      3\u001b[0m \u001b[0mplt\u001b[0m\u001b[0;34m.\u001b[0m\u001b[0mshow\u001b[0m\u001b[0;34m(\u001b[0m\u001b[0;34m)\u001b[0m\u001b[0;34m\u001b[0m\u001b[0m\n\u001b[1;32m      4\u001b[0m \u001b[0;31m# remove un-interesting bits of image\u001b[0m\u001b[0;34m\u001b[0m\u001b[0;34m\u001b[0m\u001b[0m\n\u001b[0;32m----> 5\u001b[0;31m \u001b[0mimage_matrix\u001b[0m\u001b[0;34m[\u001b[0m\u001b[0;36m200\u001b[0m\u001b[0;34m:\u001b[0m\u001b[0;36m300\u001b[0m\u001b[0;34m]\u001b[0m\u001b[0;34m\u001b[0m\u001b[0m\n\u001b[0m",
      "\u001b[0;31mNameError\u001b[0m: name 'image_matrix' is not defined"
     ]
    }
   ],
   "source": [
    "f = get_image(IMAGE_FOLDER_PATH+image_labels.keys()[1])\n",
    "plt.imshow(f)\n",
    "plt.show()\n",
    "# remove un-interesting bits of image\n",
    "image_matrix[200:300]"
   ]
  },
  {
   "cell_type": "code",
   "execution_count": 10,
   "metadata": {
    "collapsed": false
   },
   "outputs": [],
   "source": [
    "plt.imshow(misc.imread(IMAGE_FOLDER_PATH+image_labels.keys()[0], flatten=True));\n",
    "plt.show()"
   ]
  },
  {
   "cell_type": "code",
   "execution_count": 11,
   "metadata": {
    "collapsed": true
   },
   "outputs": [],
   "source": [
    "UPPER_FRAME = 300\n",
    "LOWER_FRAME = 200\n",
    "THRESHOLD = 30\n",
    "def comapare_frames(frame_1_file_name, frame_2_file_name):\n",
    "    f1 = misc.imread(frame_1_file_name, flatten=True)\n",
    "    f2 = misc.imread(frame_2_file_name, flatten=True)\n",
    "    diff = (f1[LOWER_FRAME:UPPER_FRAME] - f2[LOWER_FRAME:UPPER_FRAME])>THRESHOLD\n",
    "    return [diff.sum(axis=0),diff]\n",
    "\n",
    "def get_image(file_name):\n",
    "    return misc.imread(file_name)"
   ]
  },
  {
   "cell_type": "code",
   "execution_count": 12,
   "metadata": {
    "collapsed": false,
    "scrolled": true
   },
   "outputs": [],
   "source": [
    "def process_images(image_labels, image_folder_name):\n",
    "    '''\n",
    "    Create lists of engneered image features.\n",
    "    '''\n",
    "\n",
    "    frame_compares_sum = []\n",
    "    frame_compares = []\n",
    "    frame_images = []\n",
    "    i = 0\n",
    "    images_to_process = image_labels[:]\n",
    "    for index, value in images_to_process[:-1].iteritems():\n",
    "        i += 1\n",
    "        curr_image = image_folder_name + index\n",
    "        next_image_index = image_labels.index.get_loc(index)+1\n",
    "        next_image_key = image_folder_name + image_labels.keys()[next_image_index]\n",
    "        out = comapare_frames(curr_image, next_image_key)\n",
    "        frame_compares.append(out[1])\n",
    "        frame_compares_sum.append(out[0])\n",
    "        frame_images.append(get_image(next_image_key))\n",
    "        if not (i % 25):\n",
    "            print('{0} images processed'.format(i))\n",
    "    return (frame_compares_sum, frame_compares, frame_images)"
   ]
  },
  {
   "cell_type": "code",
   "execution_count": 13,
   "metadata": {
    "collapsed": false,
    "scrolled": true
   },
   "outputs": [
    {
     "name": "stdout",
     "output_type": "stream",
     "text": [
      "25 images processed\n",
      "50 images processed\n",
      "75 images processed\n",
      "100 images processed\n",
      "125 images processed\n",
      "150 images processed\n",
      "175 images processed\n",
      "200 images processed\n",
      "225 images processed\n",
      "250 images processed\n",
      "275 images processed\n",
      "300 images processed\n",
      "325 images processed\n",
      "350 images processed\n",
      "375 images processed\n",
      "400 images processed\n",
      "425 images processed\n",
      "450 images processed\n",
      "475 images processed\n",
      "500 images processed\n",
      "525 images processed\n",
      "550 images processed\n",
      "575 images processed\n",
      "600 images processed\n",
      "625 images processed\n",
      "650 images processed\n",
      "675 images processed\n",
      "700 images processed\n",
      "725 images processed\n",
      "750 images processed\n",
      "775 images processed\n",
      "800 images processed\n",
      "825 images processed\n",
      "850 images processed\n",
      "875 images processed\n",
      "900 images processed\n",
      "925 images processed\n",
      "950 images processed\n",
      "975 images processed\n",
      "1000 images processed\n",
      "1025 images processed\n",
      "1050 images processed\n",
      "1075 images processed\n",
      "1100 images processed\n",
      "1125 images processed\n",
      "1150 images processed\n",
      "1175 images processed\n",
      "1200 images processed\n",
      "1225 images processed\n",
      "1250 images processed\n",
      "1275 images processed\n",
      "1300 images processed\n",
      "1325 images processed\n",
      "1350 images processed\n",
      "1375 images processed\n",
      "1400 images processed\n",
      "1425 images processed\n",
      "1450 images processed\n",
      "1475 images processed\n",
      "1500 images processed\n",
      "1525 images processed\n",
      "1550 images processed\n",
      "1575 images processed\n",
      "1600 images processed\n",
      "1625 images processed\n",
      "1650 images processed\n",
      "1675 images processed\n",
      "1700 images processed\n",
      "1725 images processed\n",
      "1750 images processed\n",
      "1775 images processed\n",
      "1800 images processed\n",
      "1825 images processed\n",
      "1850 images processed\n",
      "1875 images processed\n",
      "1900 images processed\n",
      "1925 images processed\n",
      "1950 images processed\n",
      "1975 images processed\n",
      "2000 images processed\n",
      "2025 images processed\n",
      "2050 images processed\n",
      "2075 images processed\n",
      "2100 images processed\n",
      "2125 images processed\n",
      "2150 images processed\n",
      "2175 images processed\n",
      "2200 images processed\n",
      "2225 images processed\n",
      "2250 images processed\n",
      "2275 images processed\n",
      "2300 images processed\n",
      "2325 images processed\n",
      "2350 images processed\n",
      "2375 images processed\n",
      "2400 images processed\n",
      "2425 images processed\n",
      "2450 images processed\n",
      "2475 images processed\n",
      "2500 images processed\n",
      "2525 images processed\n"
     ]
    }
   ],
   "source": [
    "frame_compares_sum, frame_compares, frame_images = process_images(image_labels, IMAGE_FOLDER_PATH)"
   ]
  },
  {
   "cell_type": "code",
   "execution_count": 14,
   "metadata": {
    "collapsed": false
   },
   "outputs": [],
   "source": [
    "def process_images_from_folder(label_file_name, image_folder_name):\n",
    "\n",
    "    _image_labels = pd.Series.from_csv(label_file_name)\n",
    "    _image_labels = _image_labels.dropna()\n",
    "    \n",
    "    return process_images(_image_labels, image_folder_name)\n",
    "    \n",
    "    "
   ]
  },
  {
   "cell_type": "code",
   "execution_count": 15,
   "metadata": {
    "collapsed": false
   },
   "outputs": [],
   "source": [
    "image_labels_2 = pd.Series.from_csv('rugby_image_labels_2.csv')\n",
    "image_labels_2 = image_labels_2.dropna()"
   ]
  },
  {
   "cell_type": "code",
   "execution_count": 16,
   "metadata": {
    "collapsed": false,
    "scrolled": true
   },
   "outputs": [
    {
     "name": "stdout",
     "output_type": "stream",
     "text": [
      "25 images processed\n",
      "50 images processed\n",
      "75 images processed\n",
      "100 images processed\n",
      "125 images processed\n",
      "150 images processed\n",
      "175 images processed\n",
      "200 images processed\n",
      "225 images processed\n",
      "250 images processed\n",
      "275 images processed\n",
      "300 images processed\n",
      "325 images processed\n",
      "350 images processed\n",
      "375 images processed\n",
      "400 images processed\n",
      "425 images processed\n",
      "450 images processed\n",
      "475 images processed\n",
      "500 images processed\n",
      "525 images processed\n",
      "550 images processed\n",
      "575 images processed\n",
      "600 images processed\n",
      "625 images processed\n",
      "650 images processed\n",
      "675 images processed\n",
      "700 images processed\n",
      "725 images processed\n",
      "750 images processed\n",
      "775 images processed\n",
      "800 images processed\n",
      "825 images processed\n",
      "850 images processed\n",
      "875 images processed\n",
      "900 images processed\n",
      "925 images processed\n",
      "950 images processed\n",
      "975 images processed\n",
      "1000 images processed\n",
      "1025 images processed\n",
      "1050 images processed\n",
      "1075 images processed\n",
      "1100 images processed\n",
      "1125 images processed\n",
      "1150 images processed\n",
      "1175 images processed\n",
      "1200 images processed\n",
      "1225 images processed\n",
      "1250 images processed\n",
      "1275 images processed\n",
      "1300 images processed\n",
      "1325 images processed\n",
      "1350 images processed\n",
      "1375 images processed\n",
      "1400 images processed\n",
      "1425 images processed\n",
      "1450 images processed\n",
      "1475 images processed\n",
      "1500 images processed\n",
      "1525 images processed\n",
      "1550 images processed\n",
      "1575 images processed\n",
      "1600 images processed\n",
      "1625 images processed\n",
      "1650 images processed\n",
      "1675 images processed\n",
      "1700 images processed\n",
      "1725 images processed\n",
      "1750 images processed\n",
      "1775 images processed\n",
      "1800 images processed\n",
      "1825 images processed\n",
      "1850 images processed\n",
      "1875 images processed\n",
      "1900 images processed\n",
      "1925 images processed\n",
      "1950 images processed\n",
      "1975 images processed\n",
      "2000 images processed\n",
      "2025 images processed\n",
      "2050 images processed\n",
      "2075 images processed\n",
      "2100 images processed\n",
      "2125 images processed\n",
      "2150 images processed\n",
      "2175 images processed\n",
      "2200 images processed\n",
      "2225 images processed\n",
      "2250 images processed\n",
      "2275 images processed\n",
      "2300 images processed\n",
      "2325 images processed\n",
      "2350 images processed\n",
      "2375 images processed\n",
      "2400 images processed\n",
      "2425 images processed\n",
      "2450 images processed\n",
      "2475 images processed\n",
      "2500 images processed\n",
      "2525 images processed\n",
      "2550 images processed\n",
      "2575 images processed\n",
      "2600 images processed\n",
      "2625 images processed\n",
      "2650 images processed\n",
      "2675 images processed\n",
      "2700 images processed\n",
      "2725 images processed\n",
      "2750 images processed\n",
      "2775 images processed\n",
      "2800 images processed\n",
      "2825 images processed\n"
     ]
    }
   ],
   "source": [
    "folder = \"/Users/zackakil/Desktop/capture/\"\n",
    "label_fname = 'rugby_image_labels_2.csv'\n",
    "frame_compares_sum_2, frame_compares_2, frame_images_2 = process_images_from_folder(label_fname, folder)"
   ]
  },
  {
   "cell_type": "code",
   "execution_count": 17,
   "metadata": {
    "collapsed": false
   },
   "outputs": [],
   "source": [
    "def temporal_data(data, frames, end_to_end=True):\n",
    "    '''\n",
    "    Join frames of sequencial items of data together into idenvidual items.\n",
    "    '''\n",
    "    output = []\n",
    "    \n",
    "    # check if user wants frames to overlap or be end-to-end     \n",
    "    if end_to_end:\n",
    "        item_end_frames = frames\n",
    "        len_adjust = 0\n",
    "    else:\n",
    "        item_end_frames = 1\n",
    "        len_adjust = frames - 1\n",
    "\n",
    "    for i in range(0, len(data) - len_adjust, item_end_frames):\n",
    "        start_array = np.array([])\n",
    "        for j in range(frames):\n",
    "            start_array = np.concatenate((start_array, data[i+j]), axis=0)\n",
    "        output.append(start_array)\n",
    "    return output"
   ]
  },
  {
   "cell_type": "code",
   "execution_count": 18,
   "metadata": {
    "collapsed": false
   },
   "outputs": [
    {
     "data": {
      "text/plain": [
       "[[0, 1, 2, 3, 4],\n",
       " [1, 2, 3, 4, 5],\n",
       " [2, 3, 4, 5, 6],\n",
       " [3, 4, 5, 6, 7],\n",
       " [4, 5, 6, 7, 8],\n",
       " [5, 6, 7, 8, 9],\n",
       " [6, 7, 8, 9, 10],\n",
       " [7, 8, 9, 10, 11],\n",
       " [8, 9, 10, 11, 12],\n",
       " [9, 10, 11, 12, 13],\n",
       " [10, 11, 12, 13, 14],\n",
       " [11, 12, 13, 14, 15],\n",
       " [12, 13, 14, 15, 16],\n",
       " [13, 14, 15, 16, 17],\n",
       " [14, 15, 16, 17, 18],\n",
       " [15, 16, 17, 18, 19],\n",
       " [16, 17, 18, 19, 20],\n",
       " [17, 18, 19, 20, 21],\n",
       " [18, 19, 20, 21, 22],\n",
       " [19, 20, 21, 22, 23]]"
      ]
     },
     "execution_count": 18,
     "metadata": {},
     "output_type": "execute_result"
    }
   ],
   "source": [
    "tet = []\n",
    "for i in range(20):\n",
    "    tet.append(list(range(i, i+5)))\n",
    "tet"
   ]
  },
  {
   "cell_type": "code",
   "execution_count": 19,
   "metadata": {
    "collapsed": false
   },
   "outputs": [
    {
     "data": {
      "text/plain": [
       "[array([ 0.,  1.,  2.,  3.,  4.,  1.,  2.,  3.,  4.,  5.]),\n",
       " array([ 1.,  2.,  3.,  4.,  5.,  2.,  3.,  4.,  5.,  6.]),\n",
       " array([ 2.,  3.,  4.,  5.,  6.,  3.,  4.,  5.,  6.,  7.]),\n",
       " array([ 3.,  4.,  5.,  6.,  7.,  4.,  5.,  6.,  7.,  8.]),\n",
       " array([ 4.,  5.,  6.,  7.,  8.,  5.,  6.,  7.,  8.,  9.]),\n",
       " array([  5.,   6.,   7.,   8.,   9.,   6.,   7.,   8.,   9.,  10.]),\n",
       " array([  6.,   7.,   8.,   9.,  10.,   7.,   8.,   9.,  10.,  11.]),\n",
       " array([  7.,   8.,   9.,  10.,  11.,   8.,   9.,  10.,  11.,  12.]),\n",
       " array([  8.,   9.,  10.,  11.,  12.,   9.,  10.,  11.,  12.,  13.]),\n",
       " array([  9.,  10.,  11.,  12.,  13.,  10.,  11.,  12.,  13.,  14.]),\n",
       " array([ 10.,  11.,  12.,  13.,  14.,  11.,  12.,  13.,  14.,  15.]),\n",
       " array([ 11.,  12.,  13.,  14.,  15.,  12.,  13.,  14.,  15.,  16.]),\n",
       " array([ 12.,  13.,  14.,  15.,  16.,  13.,  14.,  15.,  16.,  17.]),\n",
       " array([ 13.,  14.,  15.,  16.,  17.,  14.,  15.,  16.,  17.,  18.]),\n",
       " array([ 14.,  15.,  16.,  17.,  18.,  15.,  16.,  17.,  18.,  19.]),\n",
       " array([ 15.,  16.,  17.,  18.,  19.,  16.,  17.,  18.,  19.,  20.]),\n",
       " array([ 16.,  17.,  18.,  19.,  20.,  17.,  18.,  19.,  20.,  21.]),\n",
       " array([ 17.,  18.,  19.,  20.,  21.,  18.,  19.,  20.,  21.,  22.]),\n",
       " array([ 18.,  19.,  20.,  21.,  22.,  19.,  20.,  21.,  22.,  23.])]"
      ]
     },
     "execution_count": 19,
     "metadata": {},
     "output_type": "execute_result"
    }
   ],
   "source": [
    "temporal_data(tet, 2, False)"
   ]
  },
  {
   "cell_type": "code",
   "execution_count": 20,
   "metadata": {
    "collapsed": true
   },
   "outputs": [],
   "source": [
    "def bin_sum(data_array, bins):\n",
    "    bin_size = int(len(data_array)/bins)\n",
    "    return data_array.reshape(-1, bin_size).sum(axis=1)"
   ]
  },
  {
   "cell_type": "code",
   "execution_count": 21,
   "metadata": {
    "collapsed": false
   },
   "outputs": [
    {
     "data": {
      "text/plain": [
       "array([11, 32, 44, 65, 70,  5, 21, 10,  0,  0,  8,  3,  9,  0,  0,  0,  0,\n",
       "        0,  1,  0])"
      ]
     },
     "execution_count": 21,
     "metadata": {},
     "output_type": "execute_result"
    }
   ],
   "source": [
    "bin_sum(frame_compares_sum[0],20)"
   ]
  },
  {
   "cell_type": "markdown",
   "metadata": {},
   "source": [
    "# Animated visualisation"
   ]
  },
  {
   "cell_type": "code",
   "execution_count": 22,
   "metadata": {
    "collapsed": false
   },
   "outputs": [],
   "source": [
    "fig, (ax1, ax2, ax3) = plt.subplots(3,1)\n",
    "\n",
    "im = ax1.imshow(frame_images_2[0][LOWER_FRAME:UPPER_FRAME], animated=True)\n",
    "im2 = ax2.imshow(frame_compares_2[0], animated=True)\n",
    "to_plot = frame_compares_sum_2[10].reshape(-1, 10).sum(axis=1)\n",
    "im3, = ax3.plot(to_plot)\n",
    "\n",
    "line = [im, im2, im3]\n",
    "\n",
    "def updatefig(i):\n",
    "    line[0].set_array(frame_images_2[i][LOWER_FRAME:UPPER_FRAME])\n",
    "    line[1].set_array(frame_compares_2[i])\n",
    "    to_plot = frame_compares_sum_2[i].reshape(-1, 10).sum(axis=1)\n",
    "    line[2].set_ydata(to_plot)   \n",
    "    return line\n",
    "\n",
    "ani = animation.FuncAnimation(fig, \n",
    "                              updatefig,\n",
    "                              np.arange(200, 300),\n",
    "                              interval=150,\n",
    "                              blit=True)\n",
    "plt.show()"
   ]
  },
  {
   "cell_type": "code",
   "execution_count": 85,
   "metadata": {
    "collapsed": false
   },
   "outputs": [],
   "source": [
    "\n",
    "plt.imshow( ((frame_images_2[131][LOWER_FRAME:UPPER_FRAME] - frame_images_2[132][LOWER_FRAME:UPPER_FRAME])**2)[:,:,0]>100 )\n",
    "plt.grid(False)\n",
    "plt.show()"
   ]
  },
  {
   "cell_type": "code",
   "execution_count": 47,
   "metadata": {
    "collapsed": true
   },
   "outputs": [],
   "source": [
    "fig, (ax1) = plt.subplots(1,1)\n",
    "\n",
    "im = ax1.imshow(frame_images_2[0], animated=True)\n",
    "# ax1.grid(False)\n",
    "line = [im]\n",
    "\n",
    "def updatefig(i):\n",
    "    line[0].set_array(frame_images_2[i])\n",
    "    return line\n",
    "\n",
    "ani = animation.FuncAnimation(fig, \n",
    "                              updatefig,\n",
    "                              np.arange(200, 300),\n",
    "                              interval=150,\n",
    "                              blit=True)\n",
    "plt.show()"
   ]
  },
  {
   "cell_type": "code",
   "execution_count": 23,
   "metadata": {
    "collapsed": false
   },
   "outputs": [],
   "source": [
    "ani.save('norm_animation_10.gif', writer='imagemagick', fps=10)"
   ]
  },
  {
   "cell_type": "code",
   "execution_count": 24,
   "metadata": {
    "collapsed": false
   },
   "outputs": [
    {
     "data": {
      "text/plain": [
       "array([ 0, 18, 25, 28, 50, 22, 52, 27,  5, 21,  0, 10,  0,  0,  0,  0,  0,\n",
       "        8,  3,  9,  0,  0,  0,  0,  0,  0,  0,  0,  0,  1,  0,  0])"
      ]
     },
     "execution_count": 24,
     "metadata": {},
     "output_type": "execute_result"
    }
   ],
   "source": [
    "frame_compares_sum[0].reshape(-1, 20).sum(axis=1)"
   ]
  },
  {
   "cell_type": "markdown",
   "metadata": {},
   "source": [
    "# Assemble training data"
   ]
  },
  {
   "cell_type": "code",
   "execution_count": 25,
   "metadata": {
    "collapsed": false
   },
   "outputs": [
    {
     "data": {
      "text/plain": [
       "[array([ 0.11,  0.32,  0.44,  0.65,  0.7 ,  0.05,  0.21,  0.1 ,  0.  ,\n",
       "         0.  ,  0.08,  0.03,  0.09,  0.  ,  0.  ,  0.  ,  0.  ,  0.  ,\n",
       "         0.01,  0.  ]),\n",
       " array([ 0.  ,  0.55,  0.22,  0.85,  2.36,  1.75,  0.  ,  0.71,  0.01,\n",
       "         0.  ,  0.12,  2.49,  2.35,  1.48,  0.3 ,  0.34,  0.  ,  0.01,\n",
       "         0.  ,  0.  ])]"
      ]
     },
     "execution_count": 25,
     "metadata": {},
     "output_type": "execute_result"
    }
   ],
   "source": [
    "def bin_sum_and_normalise(sum_data, num_of_bins = 20, normalise_var = 100):\n",
    "    _binned_pixel_diffs = [bin_sum(d, num_of_bins)/normalise_var for d in sum_data]\n",
    "    return _binned_pixel_diffs\n",
    "\n",
    "binned_pixel_diffs = bin_sum_and_normalise(frame_compares_sum)\n",
    "binned_pixel_diffs[:2]"
   ]
  },
  {
   "cell_type": "code",
   "execution_count": 26,
   "metadata": {
    "collapsed": false
   },
   "outputs": [
    {
     "data": {
      "text/plain": [
       "matrix([[ 0.11,  0.32,  0.44,  0.65,  0.7 ,  0.05,  0.21,  0.1 ,  0.  ,\n",
       "          0.  ,  0.08,  0.03,  0.09,  0.  ,  0.  ,  0.  ,  0.  ,  0.  ,\n",
       "          0.01,  0.  ,  0.  ,  0.55,  0.22,  0.85,  2.36,  1.75,  0.  ,\n",
       "          0.71,  0.01,  0.  ,  0.12,  2.49,  2.35,  1.48,  0.3 ,  0.34,\n",
       "          0.  ,  0.01,  0.  ,  0.  ],\n",
       "        [ 0.  ,  0.55,  0.22,  0.85,  2.36,  1.75,  0.  ,  0.71,  0.01,\n",
       "          0.  ,  0.12,  2.49,  2.35,  1.48,  0.3 ,  0.34,  0.  ,  0.01,\n",
       "          0.  ,  0.  ,  0.  ,  0.2 ,  0.16,  0.22,  0.59,  0.35,  0.  ,\n",
       "          0.  ,  0.  ,  0.  ,  0.09,  0.03,  0.02,  0.  ,  0.  ,  0.  ,\n",
       "          0.  ,  0.  ,  0.  ,  0.  ]])"
      ]
     },
     "execution_count": 26,
     "metadata": {},
     "output_type": "execute_result"
    }
   ],
   "source": [
    "# temporal bundel multiple frames together into rows\n",
    "num_of_frames_per_row = 2\n",
    "temporaly_bundeled_data =  np.matrix(temporal_data(binned_pixel_diffs, num_of_frames_per_row, end_to_end=False))\n",
    "temporaly_bundeled_data[:2]"
   ]
  },
  {
   "cell_type": "code",
   "execution_count": 27,
   "metadata": {
    "collapsed": false
   },
   "outputs": [
    {
     "data": {
      "text/plain": [
       "array([ 0.221875 ,  0.2484375,  0.24375  ])"
      ]
     },
     "execution_count": 27,
     "metadata": {},
     "output_type": "execute_result"
    }
   ],
   "source": [
    "# gather desired output to match with last frame of bundeled data\n",
    "# normilsie by the maximum pixel location (640 becuassee that is the width of the frame)\n",
    "normalise_var = 640\n",
    "desired_output_for_frames = image_labels.values[1:-1]/normalise_var\n",
    "desired_output_for_frames[:3]"
   ]
  },
  {
   "cell_type": "code",
   "execution_count": 28,
   "metadata": {
    "collapsed": false
   },
   "outputs": [
    {
     "data": {
      "text/plain": [
       "(array([ 0.221875 ,  0.2484375,  0.24375  ]),\n",
       " matrix([[ 0.11,  0.32,  0.44,  0.65,  0.7 ,  0.05,  0.21,  0.1 ,  0.  ,\n",
       "           0.  ,  0.08,  0.03,  0.09,  0.  ,  0.  ,  0.  ,  0.  ,  0.  ,\n",
       "           0.01,  0.  ,  0.  ,  0.55,  0.22,  0.85,  2.36,  1.75,  0.  ,\n",
       "           0.71,  0.01,  0.  ,  0.12,  2.49,  2.35,  1.48,  0.3 ,  0.34,\n",
       "           0.  ,  0.01,  0.  ,  0.  ],\n",
       "         [ 0.  ,  0.55,  0.22,  0.85,  2.36,  1.75,  0.  ,  0.71,  0.01,\n",
       "           0.  ,  0.12,  2.49,  2.35,  1.48,  0.3 ,  0.34,  0.  ,  0.01,\n",
       "           0.  ,  0.  ,  0.  ,  0.2 ,  0.16,  0.22,  0.59,  0.35,  0.  ,\n",
       "           0.  ,  0.  ,  0.  ,  0.09,  0.03,  0.02,  0.  ,  0.  ,  0.  ,\n",
       "           0.  ,  0.  ,  0.  ,  0.  ],\n",
       "         [ 0.  ,  0.2 ,  0.16,  0.22,  0.59,  0.35,  0.  ,  0.  ,  0.  ,\n",
       "           0.  ,  0.09,  0.03,  0.02,  0.  ,  0.  ,  0.  ,  0.  ,  0.  ,\n",
       "           0.  ,  0.  ,  0.  ,  0.01,  0.15,  0.61,  0.56,  0.29,  0.  ,\n",
       "           0.  ,  0.  ,  0.  ,  0.08,  0.11,  0.06,  0.  ,  0.  ,  0.  ,\n",
       "           0.  ,  0.03,  0.  ,  0.  ],\n",
       "         [ 0.  ,  0.01,  0.15,  0.61,  0.56,  0.29,  0.  ,  0.  ,  0.  ,\n",
       "           0.  ,  0.08,  0.11,  0.06,  0.  ,  0.  ,  0.  ,  0.  ,  0.03,\n",
       "           0.  ,  0.  ,  0.  ,  0.  ,  0.83,  0.22,  0.3 ,  0.45,  0.  ,\n",
       "           0.03,  0.  ,  0.  ,  0.11,  0.24,  0.  ,  0.  ,  0.  ,  0.  ,\n",
       "           0.  ,  0.01,  0.  ,  0.  ]]))"
      ]
     },
     "execution_count": 28,
     "metadata": {},
     "output_type": "execute_result"
    }
   ],
   "source": [
    "def bundle_and_normalise(sum_data, image_labels, num_of_frames_per_row=2, normalise_var=640): \n",
    "    temporaly_bundeled_data =  np.matrix(temporal_data(sum_data, num_of_frames_per_row, end_to_end=False))\n",
    "    desired_output_for_frames = image_labels.values[1:-1]/normalise_var\n",
    "    return (temporaly_bundeled_data, desired_output_for_frames)\n",
    "\n",
    "temporaly_bundeled_data, desired_output_for_frames = bundle_and_normalise(binned_pixel_diffs, image_labels)\n",
    "\n",
    "desired_output_for_frames[:3], temporaly_bundeled_data[:4]"
   ]
  },
  {
   "cell_type": "code",
   "execution_count": 29,
   "metadata": {
    "collapsed": false
   },
   "outputs": [
    {
     "data": {
      "text/plain": [
       "(2532, 2532)"
      ]
     },
     "execution_count": 29,
     "metadata": {},
     "output_type": "execute_result"
    }
   ],
   "source": [
    "len(desired_output_for_frames), len(temporaly_bundeled_data)"
   ]
  },
  {
   "cell_type": "code",
   "execution_count": 30,
   "metadata": {
    "collapsed": true
   },
   "outputs": [],
   "source": [
    "def transofrm_data_into_input_data_format(pixel_sum_data, image_labels):\n",
    "    _binned_pixel_diffs = bin_sum_and_normalise(pixel_sum_data)\n",
    "    return bundle_and_normalise(_binned_pixel_diffs, image_labels)"
   ]
  },
  {
   "cell_type": "code",
   "execution_count": 31,
   "metadata": {
    "collapsed": false
   },
   "outputs": [],
   "source": [
    "i_1, o_1 = transofrm_data_into_input_data_format(frame_compares_sum, image_labels)\n",
    "i_2, o_2 = transofrm_data_into_input_data_format(frame_compares_sum_2, image_labels_2)"
   ]
  },
  {
   "cell_type": "code",
   "execution_count": 32,
   "metadata": {
    "collapsed": false
   },
   "outputs": [
    {
     "data": {
      "text/plain": [
       "(5358, 40)"
      ]
     },
     "execution_count": 32,
     "metadata": {},
     "output_type": "execute_result"
    }
   ],
   "source": [
    "all_inputs = np.concatenate((i_1, i_2))\n",
    "all_inputs.shape"
   ]
  },
  {
   "cell_type": "code",
   "execution_count": 33,
   "metadata": {
    "collapsed": false
   },
   "outputs": [
    {
     "data": {
      "text/plain": [
       "(5358,)"
      ]
     },
     "execution_count": 33,
     "metadata": {},
     "output_type": "execute_result"
    }
   ],
   "source": [
    "all_outputs = np.concatenate((o_1, o_2))\n",
    "all_outputs.shape"
   ]
  },
  {
   "cell_type": "markdown",
   "metadata": {},
   "source": [
    "# Train neural network "
   ]
  },
  {
   "cell_type": "code",
   "execution_count": 34,
   "metadata": {
    "collapsed": true
   },
   "outputs": [],
   "source": [
    "from sklearn.model_selection import train_test_split"
   ]
  },
  {
   "cell_type": "code",
   "execution_count": 35,
   "metadata": {
    "collapsed": true
   },
   "outputs": [],
   "source": [
    "\n",
    "# mnist = fetch_mldata(\"MNIST original\")\n",
    "# rescale the data, use the traditional train/test split\n",
    "# X, y = temporaly_bundeled_data, desired_output_for_frames\n",
    "X, y = all_inputs, all_outputs\n",
    "split_boundary = 2000\n",
    "X_train, X_test = X[:split_boundary], X[split_boundary:]\n",
    "y_train, y_test = y[:split_boundary], y[split_boundary:]\n"
   ]
  },
  {
   "cell_type": "code",
   "execution_count": 36,
   "metadata": {
    "collapsed": true
   },
   "outputs": [],
   "source": [
    "X_train_t, X_test_t, y_train_t, y_test_t = train_test_split(\n",
    "                        X, y, test_size=0.2, random_state=42)"
   ]
  },
  {
   "cell_type": "code",
   "execution_count": 37,
   "metadata": {
    "collapsed": false,
    "scrolled": true
   },
   "outputs": [
    {
     "name": "stdout",
     "output_type": "stream",
     "text": [
      "Training set score: 0.723692\n",
      "Test set score: 0.614937\n",
      "0.9\n",
      "Training set score: 0.768655\n",
      "Test set score: 0.710480\n",
      "0.8\n",
      "Training set score: 0.781157\n",
      "Test set score: 0.748301\n",
      "0.7\n",
      "Training set score: 0.798824\n",
      "Test set score: 0.754357\n",
      "0.6\n",
      "Training set score: 0.808120\n",
      "Test set score: 0.769145\n",
      "0.5\n",
      "Training set score: 0.812376\n",
      "Test set score: 0.771438\n",
      "0.4\n",
      "Training set score: 0.813952\n",
      "Test set score: 0.778593\n",
      "0.30000000000000004\n",
      "Training set score: 0.813058\n",
      "Test set score: 0.790092\n",
      "0.19999999999999996\n",
      "Training set score: 0.823484\n",
      "Test set score: 0.789914\n",
      "0.09999999999999998\n"
     ]
    }
   ],
   "source": [
    "\n",
    "train_results = []\n",
    "test_results = []\n",
    "layer_vals = list(range(1,10,1))\n",
    "for i in layer_vals:\n",
    "    X_train_t, X_test_t, y_train_t, y_test_t = train_test_split(\n",
    "                        X, y, test_size=1 - (i/10), random_state=42)\n",
    "    rgr = MLPRegressor(hidden_layer_sizes=(25), max_iter=2000, alpha=15,\n",
    "                        solver='lbfgs', verbose=10, tol=1e-4, random_state=1,\n",
    "                        learning_rate_init=.1)\n",
    "\n",
    "    rgr.fit(X_train_t, y_train_t)\n",
    "    train_score = rgr.score(X_train_t, y_train_t)\n",
    "    test_score = rgr.score(X_test_t, y_test_t)\n",
    "    print(\"Training set score: %f\" % train_score)\n",
    "    print(\"Test set score: %f\" % test_score)\n",
    "    train_results.append(train_score)\n",
    "    test_results.append(test_score)\n",
    "    print(1 - (i/10))"
   ]
  },
  {
   "cell_type": "code",
   "execution_count": 38,
   "metadata": {
    "collapsed": true
   },
   "outputs": [],
   "source": [
    "plt.plot(train_results, c ='g')\n",
    "plt.plot(test_results, c ='r')\n",
    "plt.show()"
   ]
  },
  {
   "cell_type": "code",
   "execution_count": 39,
   "metadata": {
    "collapsed": false
   },
   "outputs": [
    {
     "data": {
      "text/plain": [
       "(4822, 20)"
      ]
     },
     "execution_count": 39,
     "metadata": {},
     "output_type": "execute_result"
    }
   ],
   "source": [
    "X_train_t[:,:20].shape"
   ]
  },
  {
   "cell_type": "code",
   "execution_count": 170,
   "metadata": {
    "collapsed": false
   },
   "outputs": [],
   "source": [
    "rgr = MLPRegressor(hidden_layer_sizes=(23), \n",
    "                   max_iter=1, alpha=10,\n",
    "                   solver='lbfgs', \n",
    "                   verbose=10, \n",
    "                   tol=1e-10, \n",
    "                   random_state=1,\n",
    "                   learning_rate_init=.0001, \n",
    "                   warm_start= True)\n",
    "\n",
    "# rgr.fit(X_train_t, y_train_t)\n",
    "# train_score = rgr.score(X_train_t, y_train_t)\n",
    "# test_score = rgr.score(X_test_t, y_test_t)\n",
    "# print(\"Training set score: %f\" % train_score)\n",
    "# print(\"Test set score: %f\" % test_score)"
   ]
  },
  {
   "cell_type": "code",
   "execution_count": 171,
   "metadata": {
    "collapsed": false
   },
   "outputs": [],
   "source": [
    "nn_test_score = []\n",
    "heur_test_score = []\n",
    "\n",
    "for i in range(500):\n",
    "    rgr.fit(X_train_t, y_train_t)\n",
    "    nn_test_score.append(rgr.score(X_test_t, y_test_t))\n",
    "    heur_test_score.append(r2_score(y_test_t,heur_predict(X_test_t)))"
   ]
  },
  {
   "cell_type": "code",
   "execution_count": 196,
   "metadata": {
    "collapsed": false
   },
   "outputs": [
    {
     "data": {
      "text/plain": [
       "<matplotlib.legend.Legend at 0x11d20c860>"
      ]
     },
     "execution_count": 196,
     "metadata": {},
     "output_type": "execute_result"
    }
   ],
   "source": [
    "plt.title('Regessor NN vs Heuristic model')\n",
    "plt.ylabel('R^2 Score')\n",
    "plt.xlabel('Learning iteration')\n",
    "nn_plot = plt.plot(nn_test_score, c='g', label='Regressor Neural Net')\n",
    "heur_plot = plt.plot(heur_test_score, c='b', label='Heuristic model')\n",
    "plt.ylim(0.4,0.9)\n",
    "plt.xlim(0,500)\n",
    "\n",
    "plt.legend(handles=[nn_plot[0], heur_plot[0]],loc=4)"
   ]
  },
  {
   "cell_type": "code",
   "execution_count": 181,
   "metadata": {
    "collapsed": false
   },
   "outputs": [
    {
     "data": {
      "text/plain": [
       "[<matplotlib.lines.Line2D at 0x11aa4a748>]"
      ]
     },
     "execution_count": 181,
     "metadata": {},
     "output_type": "execute_result"
    }
   ],
   "source": [
    "plt.plot(layer_vals,train_results)\n",
    "plt.plot(layer_vals,test_results)"
   ]
  },
  {
   "cell_type": "code",
   "execution_count": 116,
   "metadata": {
    "collapsed": false
   },
   "outputs": [
    {
     "data": {
      "text/plain": [
       "array([ 0.41887759,  0.393201  ,  0.3339116 ,  0.30326352,  0.23129711,\n",
       "        0.2233137 ,  0.20990473,  0.21598249,  0.23328139,  0.22389982,\n",
       "        0.22539453,  0.21228117,  0.2168425 ,  0.24404686,  0.30652133,\n",
       "        0.32857684,  0.3303517 ,  0.37438198,  0.34383299,  0.35259473,\n",
       "        0.42068756,  0.40130302,  0.30868615,  0.26787117,  0.27707563,\n",
       "        0.2898766 ,  0.37866319,  0.4896563 ,  0.46138087,  0.43612926,\n",
       "        0.36054929,  0.35682666,  0.31865374,  0.24613009,  0.24985167,\n",
       "        0.22875137,  0.22349348,  0.27487995,  0.39021832,  0.42267581,\n",
       "        0.39063639,  0.44364757,  0.45282155,  0.4794069 ,  0.44244302,\n",
       "        0.4719319 ,  0.42557487,  0.34528786,  0.34881111,  0.32351177,\n",
       "        0.30407746,  0.28643083,  0.28127448,  0.32255585,  0.33178714,\n",
       "        0.28999655,  0.33717701,  0.354685  ,  0.382536  ,  0.3766554 ,\n",
       "        0.35927514,  0.42203991,  0.42062053,  0.4783876 ,  0.55776537,\n",
       "        0.55929178,  0.60349442,  0.6345226 ,  0.72244151,  0.62743297,\n",
       "        0.58873219,  0.57669342,  0.49474436,  0.53225213,  0.55556721,\n",
       "        0.52187211,  0.4789085 ,  0.49435107,  0.39931796,  0.36136312,\n",
       "        0.37311375,  0.34371131,  0.39487455,  0.36582185,  0.41281228,\n",
       "        0.42160144,  0.40593677,  0.40688757,  0.43817638,  0.46324987,\n",
       "        0.39583844,  0.37527516,  0.35915323,  0.32004466,  0.3458354 ,\n",
       "        0.40617244,  0.38440908,  0.33718212,  0.32785223,  0.31698834,\n",
       "        0.31222427,  0.27268837,  0.26159229,  0.24501081,  0.2366004 ,\n",
       "        0.23928518,  0.27241433,  0.27325996,  0.27769865,  0.31115431,\n",
       "        0.33802157,  0.33413587,  0.30925802,  0.30579889,  0.29266151,\n",
       "        0.29891617,  0.35255021,  0.32105107,  0.36382233,  0.44833068,\n",
       "        0.2155802 ,  0.16792378,  0.3026409 ,  0.31381491,  0.25091097,\n",
       "        0.30935219,  0.46193746,  0.48239215,  0.50488395,  0.42567224,\n",
       "        0.4422212 ,  0.43669723,  0.50459243,  0.52483675,  0.5195634 ,\n",
       "        0.56081337,  0.58557462,  0.4989408 ,  0.48472016,  0.43018785,\n",
       "        0.33573039,  0.24829705,  0.24760525,  0.23380143,  0.24143544,\n",
       "        0.24590168,  0.25210094,  0.23635731,  0.27902917,  0.28027872,\n",
       "        0.22607233,  0.25216007,  0.32216792,  0.3472295 ,  0.3753057 ,\n",
       "        0.44698233,  0.51515078,  0.53793319,  0.54364989,  0.38365469,\n",
       "        0.43009507,  0.54203673,  0.55253085,  0.53127583,  0.55450861,\n",
       "        0.55982841,  0.53273367,  0.4840095 ,  0.4940309 ,  0.44137605,\n",
       "        0.43563516,  0.50332412,  0.45660572,  0.46773757,  0.47251076,\n",
       "        0.484491  ,  0.5299926 ,  0.52740222,  0.52323304,  0.51062996,\n",
       "        0.47045921,  0.38845343,  0.37731258,  0.41955816,  0.43613073,\n",
       "        0.49109231,  0.60642435,  0.77155135,  0.76339921,  0.75142176,\n",
       "        0.79259122,  0.77944904,  0.81054545,  0.85283912,  0.78496367,\n",
       "        0.75983153,  0.73831917,  0.70537405,  0.66238021,  0.64593749,\n",
       "        0.53049474,  0.49512315,  0.38867978,  0.43259884,  0.46274848,\n",
       "        0.46721766,  0.48042982,  0.52618469,  0.51184773,  0.54050845,\n",
       "        0.60673653,  0.60762307,  0.59091342,  0.58842428,  0.54594151,\n",
       "        0.49319175,  0.45160985,  0.44349622,  0.31897122,  0.2547357 ,\n",
       "        0.28388225,  0.29506961,  0.25254325,  0.24955254,  0.21828579,\n",
       "        0.21185818,  0.22116114,  0.21095098,  0.20677505,  0.21029787,\n",
       "        0.21688723,  0.23456396,  0.2203981 ,  0.23471034,  0.2571824 ,\n",
       "        0.22609276,  0.23591094,  0.22205867,  0.2331346 ,  0.27028043,\n",
       "        0.29558399,  0.31332577,  0.31244561,  0.30712225,  0.26248019,\n",
       "        0.207766  ,  0.2105771 ,  0.19043525,  0.19219682,  0.26324323,\n",
       "        0.34129809,  0.30020567,  0.34036139,  0.35955367,  0.40730069,\n",
       "        0.34274714,  0.34046519,  0.37206586,  0.32414952,  0.32362069,\n",
       "        0.37861512,  0.41194265,  0.48429492,  0.45157212,  0.43233031,\n",
       "        0.43972659,  0.42103605,  0.40159228,  0.45654264,  0.4902526 ,\n",
       "        0.49897565,  0.51675907,  0.54563018,  0.5741856 ,  0.55257713,\n",
       "        0.55020817,  0.50839696,  0.5481279 ,  0.57243279,  0.56078752,\n",
       "        0.55066618,  0.59792811,  0.61557441,  0.60502523,  0.61125939,\n",
       "        0.57317358,  0.63127426,  0.70382275,  0.71977925,  0.736383  ,\n",
       "        0.73861942,  0.77740734,  0.77891586,  0.76468088,  0.76696196,\n",
       "        0.77264176,  0.79448575,  0.75907213,  0.81717275,  0.80432836,\n",
       "        0.79813819,  0.74403887,  0.78704006,  0.78185506,  0.7785477 ,\n",
       "        0.78914825,  0.79590852,  0.79696456,  0.79502262,  0.79558413,\n",
       "        0.74801427,  0.74894053,  0.76637502,  0.77492774,  0.80221897,\n",
       "        0.80447144,  0.80743657,  0.81562159,  0.82129348,  0.81436925,\n",
       "        0.82235685,  0.81664611,  0.79772964,  0.80188252,  0.8090821 ,\n",
       "        0.80561056,  0.80283906,  0.80630694,  0.79069076,  0.78108838,\n",
       "        0.80104376,  0.79886629,  0.79384141,  0.78669553,  0.77017136,\n",
       "        0.77658023,  0.78135026,  0.78774866,  0.7751227 ,  0.72250658,\n",
       "        0.7249731 ,  0.78404118,  0.78729349,  0.78057639,  0.76690075,\n",
       "        0.76628167,  0.76776289,  0.77392624,  0.75896906,  0.70713047,\n",
       "        0.68237866,  0.67725594,  0.68712676,  0.69184533,  0.68474074,\n",
       "        0.69261966,  0.68327381,  0.68495725,  0.65655756,  0.64499892,\n",
       "        0.63321405,  0.63497269,  0.62115329,  0.61909077,  0.61105924,\n",
       "        0.60471179,  0.60936155,  0.60312211,  0.61324371,  0.61455524,\n",
       "        0.61878002,  0.64200919,  0.66478852,  0.67113884,  0.68174371,\n",
       "        0.676982  ,  0.66699363,  0.66773786,  0.68738676,  0.7452571 ,\n",
       "        0.83651195,  0.8813478 ,  0.82893774,  0.90230187,  0.89587059,\n",
       "        0.77070478,  0.71050733,  0.67559245,  0.6613597 ,  0.68222285,\n",
       "        0.7533208 ,  0.75087812,  0.89830456,  0.99588798,  0.99739434,\n",
       "        0.9359663 ,  0.78101807,  0.77546321,  0.78804325,  0.78828467,\n",
       "        0.75826386,  0.76876487,  0.77821804,  0.79194639,  0.80778973,\n",
       "        0.7929913 ,  0.78495988,  0.77640118,  0.78463754,  0.74845902,\n",
       "        0.77273781,  0.78787335,  0.82704477,  0.83348208,  0.79592323,\n",
       "        0.77464866,  0.71758187,  0.70906884,  0.70749092,  0.69248863,\n",
       "        0.70666184,  0.73631705,  0.8226718 ,  0.85278903,  0.80313802,\n",
       "        0.78768423,  0.82177084,  0.80872152,  0.80154004,  0.82461466,\n",
       "        0.81630102,  0.82785945,  0.80657684,  0.81218495,  0.79939126,\n",
       "        0.77906641,  0.7998809 ,  0.82833291,  0.8194751 ,  0.81758331,\n",
       "        0.83812668,  0.82836259,  0.71606223,  0.57620516,  0.46294194,\n",
       "        0.43642947,  0.37528544,  0.42340084,  0.38191446,  0.36638584,\n",
       "        0.28159656,  0.2335277 ,  0.21030817,  0.25857226,  0.30959573,\n",
       "        0.27964156,  0.26430093,  0.2729848 ,  0.27907584,  0.29677168,\n",
       "        0.29089815,  0.32139761,  0.3374618 ,  0.3321085 ,  0.30739138,\n",
       "        0.27792326,  0.31065524,  0.32188579,  0.28992345,  0.28852378,\n",
       "        0.29297124,  0.29731319,  0.285928  ,  0.28625755,  0.28750731,\n",
       "        0.29743123,  0.27610056,  0.29253662,  0.25349205,  0.27189922,\n",
       "        0.31364856,  0.29243568,  0.28287501,  0.25811661,  0.26809322,\n",
       "        0.24496445,  0.21519417,  0.22750011,  0.22844255,  0.22704006,\n",
       "        0.24356354,  0.24563876,  0.33794927,  0.38338152,  0.42484314,\n",
       "        0.47369841,  0.48081299,  0.45268973,  0.40820429,  0.47524236,\n",
       "        0.45778705,  0.40020503,  0.41149942,  0.41677415,  0.42737733,\n",
       "        0.43467032,  0.44157939,  0.49497918,  0.53077144,  0.55901409,\n",
       "        0.53963158,  0.55250339,  0.53946313,  0.51262863,  0.50836881,\n",
       "        0.46053497,  0.46410127,  0.50262657,  0.53776627,  0.53397854,\n",
       "        0.57682374,  0.55882174,  0.56091749,  0.54342229,  0.5331489 ,\n",
       "        0.53401507,  0.61076205,  0.67440962,  0.70048662,  0.73000394,\n",
       "        0.76130448,  0.78015433,  0.78860811,  0.7654785 ,  0.77863209,\n",
       "        0.78627166,  0.77847872,  0.76724295,  0.75053996,  0.71473861,\n",
       "        0.70077742,  0.70939208,  0.77360071,  0.81302941,  0.78506206,\n",
       "        0.69414356,  0.63031357,  0.62622949,  0.62610149,  0.59574522,\n",
       "        0.56322165,  0.51547846,  0.48431732,  0.4866816 ,  0.47672924,\n",
       "        0.46640335,  0.41148654,  0.4336783 ,  0.43505907,  0.45194   ,\n",
       "        0.4607766 ,  0.42082201,  0.44404014,  0.43773775,  0.43698186,\n",
       "        0.46714505,  0.42953444,  0.45330705,  0.42127621,  0.42511119,\n",
       "        0.37239434,  0.39160158,  0.39103332,  0.39147642,  0.32206789,\n",
       "        0.29974008,  0.35103588,  0.47383525,  0.36823641,  0.41117951,\n",
       "        0.42292476,  0.43833163,  0.44480121,  0.55465812,  0.57162905,\n",
       "        0.61896054,  0.64405156,  0.65869177,  0.67029727,  0.67744438,\n",
       "        0.66167534,  0.65448318,  0.62009108,  0.60935331,  0.61116816,\n",
       "        0.61986372,  0.61876648,  0.60410851,  0.60102965,  0.58487367,\n",
       "        0.52969336,  0.46874369,  0.49241766,  0.49272532,  0.52111967,\n",
       "        0.53844378,  0.63609558,  0.56381921,  0.53202656,  0.44115241,\n",
       "        0.43286754,  0.41328211,  0.4017369 ,  0.41091069,  0.40189654,\n",
       "        0.39255811,  0.36959376,  0.37711124,  0.36264628,  0.39735733,\n",
       "        0.37828501,  0.37446881,  0.40932031,  0.39526793,  0.42046979,\n",
       "        0.40358921,  0.40479038,  0.40431177,  0.40001263,  0.41797334,\n",
       "        0.41005576,  0.41052525,  0.40984425,  0.39779353,  0.34278281,\n",
       "        0.29637719,  0.30346678,  0.26606815,  0.21961921,  0.24772708,\n",
       "        0.27114663,  0.26400463,  0.25427983,  0.2698419 ,  0.27665289,\n",
       "        0.26349355,  0.2636432 ,  0.236636  ,  0.22463793,  0.23496961,\n",
       "        0.22906958,  0.21823372,  0.20778468,  0.22343263,  0.22746783,\n",
       "        0.23284178,  0.24756268,  0.26193655,  0.25002747,  0.22479617,\n",
       "        0.22302625,  0.24540126,  0.23530784,  0.23958628,  0.2141584 ,\n",
       "        0.24351774,  0.25149706,  0.24441674,  0.24556252,  0.25478533,\n",
       "        0.28551606,  0.23850193,  0.2058259 ,  0.20902408,  0.20438256,\n",
       "        0.2018594 ,  0.22398385,  0.23502349,  0.2506103 ,  0.23095557,\n",
       "        0.21703945,  0.19845356,  0.20531296,  0.20529733,  0.20721962,\n",
       "        0.22767335,  0.22024055,  0.21226932,  0.23053981,  0.22563831,\n",
       "        0.21571671,  0.2533557 ,  0.41262493,  0.46102936,  0.39279807,\n",
       "        0.35133358,  0.29300478,  0.31101096,  0.32950867,  0.35398241,\n",
       "        0.40582737,  0.43395033,  0.44548494,  0.42457411,  0.44986405,\n",
       "        0.43578462,  0.45125811,  0.48528549,  0.47727385,  0.43104528,\n",
       "        0.44165786,  0.5015186 ,  0.57229781,  0.5716501 ,  0.43413616,\n",
       "        0.4988521 ,  0.45253974,  0.53085734,  0.57321835,  0.52090774,\n",
       "        0.39895912,  0.4087339 ,  0.38501163,  0.24753577,  0.26583101,\n",
       "        0.50922258,  0.58688495,  0.49788405,  0.52462306,  0.54118099,\n",
       "        0.53789111,  0.48914913,  0.44448723,  0.48291321,  0.46775144,\n",
       "        0.40081029,  0.41222654,  0.34704077,  0.40131823,  0.40277843,\n",
       "        0.41127187,  0.43260907,  0.47910739,  0.4800399 ,  0.47928071,\n",
       "        0.46262912,  0.43184482,  0.42632051,  0.40898398,  0.4317135 ,\n",
       "        0.43087219,  0.43578407,  0.37974784,  0.40683815,  0.45398531,\n",
       "        0.46425233,  0.44827748,  0.41939862,  0.42097176,  0.40427021,\n",
       "        0.42248524,  0.45001291,  0.45936724,  0.42096611,  0.40407939,\n",
       "        0.40027339,  0.42033719,  0.48404043,  0.46319978,  0.47834889,\n",
       "        0.50556   ,  0.55455871,  0.49719579,  0.52997224,  0.5093839 ,\n",
       "        0.49991161,  0.46974923,  0.46641398,  0.46338995,  0.49859827,\n",
       "        0.44746923,  0.44040497,  0.47773212,  0.50799877,  0.50558123,\n",
       "        0.53669754,  0.50200902,  0.48395943,  0.46545828,  0.44667474,\n",
       "        0.44385987,  0.44576274,  0.41481697,  0.46450047,  0.42082438,\n",
       "        0.42443146,  0.40975848,  0.37354131,  0.38624724,  0.33295388,\n",
       "        0.23065723,  0.23735804,  0.23223339,  0.21826539,  0.19880571,\n",
       "        0.19995119,  0.21449642,  0.25792527,  0.28903587,  0.22679048,\n",
       "        0.20580273,  0.21133817,  0.21440062,  0.22021842,  0.21644965,\n",
       "        0.22424983,  0.22544952,  0.23734866,  0.27620236,  0.23830989,\n",
       "        0.22186884,  0.21413396,  0.21571841,  0.2064008 ,  0.20947607,\n",
       "        0.21249664,  0.22782846,  0.22892452,  0.21933939,  0.21463315,\n",
       "        0.22164036,  0.20513962,  0.19938572,  0.20487002,  0.21273396,\n",
       "        0.21451541,  0.20330485,  0.2108567 ,  0.2218446 ,  0.23586427,\n",
       "        0.24554378,  0.22647097,  0.21484431,  0.21867153,  0.24739664,\n",
       "        0.25696043,  0.24875168,  0.25500487,  0.2440937 ,  0.21951222,\n",
       "        0.22144596,  0.22102958,  0.21136706,  0.21912948,  0.23184901,\n",
       "        0.26203979,  0.24506851,  0.23828031,  0.21715168,  0.22226498,\n",
       "        0.31211956,  0.25990525,  0.22792523,  0.22026462,  0.21270911,\n",
       "        0.21886793,  0.20704903,  0.22832364,  0.23261664,  0.20169547,\n",
       "        0.21819141,  0.22156259,  0.20888839,  0.21609099,  0.23171123,\n",
       "        0.24256922,  0.26019411,  0.26226162,  0.25618871,  0.2224196 ,\n",
       "        0.21693154,  0.21799437,  0.21234194,  0.20619512,  0.20198868,\n",
       "        0.20349846,  0.21197862,  0.20812468,  0.21965403,  0.19770383,\n",
       "        0.21778469,  0.22500364,  0.22461202,  0.32822465,  0.34049211,\n",
       "        0.30777935,  0.34589979,  0.34275211,  0.32500526,  0.3400597 ,\n",
       "        0.39557217,  0.41999542,  0.44271359,  0.44879031,  0.43856311,\n",
       "        0.46131339,  0.47009295,  0.49282943,  0.47608801,  0.50668331,\n",
       "        0.5769079 ,  0.5774942 ,  0.55018321,  0.52777014,  0.46256606,\n",
       "        0.43700549,  0.41430301,  0.49969849,  0.67655795,  0.49242899,\n",
       "        0.52790275,  0.57763639,  0.53008726,  0.47513663,  0.51847324,\n",
       "        0.53433594,  0.56802026,  0.53773299,  0.51762927,  0.45905627,\n",
       "        0.41007523,  0.39155191,  0.32253806,  0.25536251,  0.22489393,\n",
       "        0.22595636,  0.28265819,  0.25649658,  0.27069915,  0.30678628,\n",
       "        0.32927092,  0.31120187,  0.31589296,  0.27272346,  0.27948755,\n",
       "        0.29338666,  0.25939659,  0.27611076,  0.28969478,  0.29004507,\n",
       "        0.29666227,  0.31090233,  0.32630098,  0.31642703,  0.34155422,\n",
       "        0.32042539,  0.30320247,  0.26342137,  0.28730333,  0.28907474,\n",
       "        0.29999328,  0.26883854,  0.3669813 ,  0.42492641,  0.42377211,\n",
       "        0.36179657,  0.26316316,  0.27994935,  0.24420145,  0.27356773,\n",
       "        0.28067614,  0.26943501,  0.28583312,  0.26187848,  0.251633  ,\n",
       "        0.26698149,  0.33117046,  0.4107416 ,  0.39712869,  0.41417237,\n",
       "        0.45944434,  0.42360542,  0.37517131,  0.41318913,  0.35357526,\n",
       "        0.31739246,  0.31245827,  0.35056481,  0.34542   ,  0.3131828 ,\n",
       "        0.28483945,  0.2994764 ,  0.34457143,  0.34262834,  0.40226035,\n",
       "        0.46451395,  0.54258531,  0.60005411,  0.68766443,  0.71399553])"
      ]
     },
     "execution_count": 116,
     "metadata": {},
     "output_type": "execute_result"
    }
   ],
   "source": [
    "o"
   ]
  },
  {
   "cell_type": "code",
   "execution_count": 101,
   "metadata": {
    "collapsed": false
   },
   "outputs": [
    {
     "data": {
      "text/plain": [
       "[<matplotlib.lines.Line2D at 0x115cf99e8>]"
      ]
     },
     "execution_count": 101,
     "metadata": {},
     "output_type": "execute_result"
    }
   ],
   "source": [
    "o = rgr.predict(all_inputs[:1000])\n",
    "plt.plot(o, c='r')\n",
    "plt.plot(all_outputs[:1000], c='g')\n",
    "plt.plot(heur[:1000])"
   ]
  },
  {
   "cell_type": "code",
   "execution_count": 130,
   "metadata": {
    "collapsed": false
   },
   "outputs": [
    {
     "data": {
      "text/plain": [
       "77.54140757795534"
      ]
     },
     "execution_count": 130,
     "metadata": {},
     "output_type": "execute_result"
    }
   ],
   "source": [
    "np.absolute(o - all_outputs[:1000]).sum()"
   ]
  },
  {
   "cell_type": "code",
   "execution_count": 133,
   "metadata": {
    "collapsed": false
   },
   "outputs": [
    {
     "data": {
      "text/plain": [
       "93.739474643392185"
      ]
     },
     "execution_count": 133,
     "metadata": {},
     "output_type": "execute_result"
    }
   ],
   "source": [
    "np.absolute(heur[:1000].reshape(1,-1) - all_outputs[:1000]).sum()"
   ]
  },
  {
   "cell_type": "code",
   "execution_count": 135,
   "metadata": {
    "collapsed": true
   },
   "outputs": [],
   "source": [
    "from sklearn.metrics import r2_score"
   ]
  },
  {
   "cell_type": "code",
   "execution_count": 202,
   "metadata": {
    "collapsed": false
   },
   "outputs": [
    {
     "data": {
      "text/plain": [
       "0.69987925443047627"
      ]
     },
     "execution_count": 202,
     "metadata": {},
     "output_type": "execute_result"
    }
   ],
   "source": [
    "r2_score(all_outputs[:1000],heur[:1000])"
   ]
  },
  {
   "cell_type": "code",
   "execution_count": 137,
   "metadata": {
    "collapsed": false
   },
   "outputs": [
    {
     "data": {
      "text/plain": [
       "0.7935131908142703"
      ]
     },
     "execution_count": 137,
     "metadata": {},
     "output_type": "execute_result"
    }
   ],
   "source": [
    "r2_score(all_outputs[:1000],o)"
   ]
  },
  {
   "cell_type": "markdown",
   "metadata": {},
   "source": [
    "# Test against heuristic model"
   ]
  },
  {
   "cell_type": "code",
   "execution_count": 63,
   "metadata": {
    "collapsed": false
   },
   "outputs": [
    {
     "data": {
      "text/plain": [
       "3.7813620071684588"
      ]
     },
     "execution_count": 63,
     "metadata": {},
     "output_type": "execute_result"
    }
   ],
   "source": [
    "bar = np.array(list(range(20))).reshape(1,20)\n",
    "np.multiply(all_inputs[0,:20],bar).sum()/ all_inputs[0,:20].sum()"
   ]
  },
  {
   "cell_type": "code",
   "execution_count": 75,
   "metadata": {
    "collapsed": false
   },
   "outputs": [
    {
     "data": {
      "text/plain": [
       "2.79"
      ]
     },
     "execution_count": 75,
     "metadata": {},
     "output_type": "execute_result"
    }
   ],
   "source": [
    "all_inputs[0,:20].sum()"
   ]
  },
  {
   "cell_type": "code",
   "execution_count": 90,
   "metadata": {
    "collapsed": false
   },
   "outputs": [
    {
     "data": {
      "text/plain": [
       "matrix([[ 3.78136201],\n",
       "        [ 8.29246677],\n",
       "        [ 4.07228916],\n",
       "        [ 4.77368421],\n",
       "        [ 4.51598174]])"
      ]
     },
     "execution_count": 90,
     "metadata": {},
     "output_type": "execute_result"
    }
   ],
   "source": [
    "(all_inputs[:5,:20]*bar.reshape(20,1))/all_inputs[:5,:20].sum(axis=1)"
   ]
  },
  {
   "cell_type": "code",
   "execution_count": null,
   "metadata": {
    "collapsed": true
   },
   "outputs": [],
   "source": []
  },
  {
   "cell_type": "code",
   "execution_count": 87,
   "metadata": {
    "collapsed": false
   },
   "outputs": [
    {
     "data": {
      "text/plain": [
       "matrix([[ 112.28],\n",
       "        [   6.76],\n",
       "        [   9.07],\n",
       "        [   9.89],\n",
       "        [  10.23]])"
      ]
     },
     "execution_count": 87,
     "metadata": {},
     "output_type": "execute_result"
    }
   ],
   "source": [
    "all_inputs[:5,20:]*bar.reshape(20,1)"
   ]
  },
  {
   "cell_type": "code",
   "execution_count": 74,
   "metadata": {
    "collapsed": false
   },
   "outputs": [
    {
     "data": {
      "text/plain": [
       "10.550000000000001"
      ]
     },
     "execution_count": 74,
     "metadata": {},
     "output_type": "execute_result"
    }
   ],
   "source": [
    "np.multiply(all_inputs[0,:20],bar).sum()"
   ]
  },
  {
   "cell_type": "code",
   "execution_count": 70,
   "metadata": {
    "collapsed": false
   },
   "outputs": [
    {
     "data": {
      "text/plain": [
       "[<matplotlib.lines.Line2D at 0x11c274fd0>]"
      ]
     },
     "execution_count": 70,
     "metadata": {},
     "output_type": "execute_result"
    }
   ],
   "source": [
    "plt.plot(list(range(20)), all_inputs[0,:20].reshape(20,-1))"
   ]
  },
  {
   "cell_type": "code",
   "execution_count": 67,
   "metadata": {
    "collapsed": false
   },
   "outputs": [
    {
     "data": {
      "text/plain": [
       "matrix([[ 0.11],\n",
       "        [ 0.32],\n",
       "        [ 0.44],\n",
       "        [ 0.65],\n",
       "        [ 0.7 ],\n",
       "        [ 0.05],\n",
       "        [ 0.21],\n",
       "        [ 0.1 ],\n",
       "        [ 0.  ],\n",
       "        [ 0.  ],\n",
       "        [ 0.08],\n",
       "        [ 0.03],\n",
       "        [ 0.09],\n",
       "        [ 0.  ],\n",
       "        [ 0.  ],\n",
       "        [ 0.  ],\n",
       "        [ 0.  ],\n",
       "        [ 0.  ],\n",
       "        [ 0.01],\n",
       "        [ 0.  ]])"
      ]
     },
     "execution_count": 67,
     "metadata": {},
     "output_type": "execute_result"
    }
   ],
   "source": [
    "all_inputs[0,:20].reshape(20,-1)"
   ]
  },
  {
   "cell_type": "code",
   "execution_count": 203,
   "metadata": {
    "collapsed": true
   },
   "outputs": [],
   "source": [
    "\n",
    "def heur_predict(data):\n",
    "    bar = np.array(list(range(20))).reshape(1,20)\n",
    "    count_data = data[:,:20]*bar.reshape(20,1)\n",
    "    sum_divider = data[:,:20].sum(axis=1)\n",
    "    return (count_data/sum_divider)/19\n",
    "    "
   ]
  },
  {
   "cell_type": "code",
   "execution_count": 201,
   "metadata": {
    "collapsed": true
   },
   "outputs": [],
   "source": [
    "heur = heur_predict(all_inputs)"
   ]
  },
  {
   "cell_type": "code",
   "execution_count": 95,
   "metadata": {
    "collapsed": false
   },
   "outputs": [
    {
     "data": {
      "text/plain": [
       "[<matplotlib.lines.Line2D at 0x11c278c18>]"
      ]
     },
     "execution_count": 95,
     "metadata": {},
     "output_type": "execute_result"
    }
   ],
   "source": [
    "plt.plot(heur_predict(all_inputs))"
   ]
  },
  {
   "cell_type": "markdown",
   "metadata": {},
   "source": [
    "## Save model"
   ]
  },
  {
   "cell_type": "code",
   "execution_count": 40,
   "metadata": {
    "collapsed": true
   },
   "outputs": [],
   "source": [
    "from sklearn.externals import joblib"
   ]
  },
  {
   "cell_type": "code",
   "execution_count": 42,
   "metadata": {
    "collapsed": false
   },
   "outputs": [
    {
     "data": {
      "text/plain": [
       "['rugby_tracker/rugby_predictor_v2.pkl']"
      ]
     },
     "execution_count": 42,
     "metadata": {},
     "output_type": "execute_result"
    }
   ],
   "source": [
    "joblib.dump(rgr, 'rugby_tracker/rugby_predictor_v2.pkl', protocol=2) "
   ]
  },
  {
   "cell_type": "code",
   "execution_count": null,
   "metadata": {
    "collapsed": true
   },
   "outputs": [],
   "source": []
  }
 ],
 "metadata": {
  "kernelspec": {
   "display_name": "Python 3",
   "language": "python",
   "name": "python3"
  },
  "language_info": {
   "codemirror_mode": {
    "name": "ipython",
    "version": 3
   },
   "file_extension": ".py",
   "mimetype": "text/x-python",
   "name": "python",
   "nbconvert_exporter": "python",
   "pygments_lexer": "ipython3",
   "version": "3.5.2"
  }
 },
 "nbformat": 4,
 "nbformat_minor": 0
}
