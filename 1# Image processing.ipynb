{
 "cells": [
  {
   "cell_type": "code",
   "execution_count": 50,
   "metadata": {
    "collapsed": false
   },
   "outputs": [
    {
     "name": "stdout",
     "output_type": "stream",
     "text": [
      "Using matplotlib backend: MacOSX\n"
     ]
    }
   ],
   "source": [
    "%matplotlib\n",
    "import seaborn as sns\n",
    "import numpy as np\n",
    "import matplotlib.pyplot as plt\n",
    "import matplotlib.animation as animation\n",
    "import pandas as pd\n",
    "from PIL import Image\n",
    "from scipy import ndimage\n",
    "from scipy import misc"
   ]
  },
  {
   "cell_type": "code",
   "execution_count": 2,
   "metadata": {
    "collapsed": true
   },
   "outputs": [],
   "source": [
    "IMAGE_FOLDER_PATH = \"/Users/zackakil/Desktop/capture clean/\""
   ]
  },
  {
   "cell_type": "code",
   "execution_count": 3,
   "metadata": {
    "collapsed": true
   },
   "outputs": [],
   "source": [
    "image_labels = pd.Series.from_csv('rugby_image_labels.csv')\n",
    "image_labels = image_labels.dropna()"
   ]
  },
  {
   "cell_type": "code",
   "execution_count": 4,
   "metadata": {
    "collapsed": false
   },
   "outputs": [
    {
     "data": {
      "text/plain": [
       "'1489359202.14.jpg'"
      ]
     },
     "execution_count": 4,
     "metadata": {},
     "output_type": "execute_result"
    }
   ],
   "source": [
    "image_labels.keys()[0]"
   ]
  },
  {
   "cell_type": "code",
   "execution_count": 5,
   "metadata": {
    "collapsed": false
   },
   "outputs": [],
   "source": [
    "output = {}\n",
    "\n",
    "face = misc.imread(IMAGE_FOLDER_PATH+image_labels.keys()[0], flatten=True)\n",
    "face1 = misc.imread(IMAGE_FOLDER_PATH+image_labels.keys()[1], flatten=True)     \n",
    "plt.imshow((face[200:300] - face1[200:300])>30)\n",
    "plt.show()"
   ]
  },
  {
   "cell_type": "code",
   "execution_count": 32,
   "metadata": {
    "collapsed": true
   },
   "outputs": [],
   "source": [
    "UPPER_FRAME = 300\n",
    "LOWER_FRAME = 200\n",
    "THRESHOLD = 30\n",
    "def comapare_frames(frame_1_file_name, frame_2_file_name):\n",
    "    f1 = misc.imread(frame_1_file_name, flatten=True)\n",
    "    f2 = misc.imread(frame_2_file_name, flatten=True)\n",
    "    diff = (f1[LOWER_FRAME:UPPER_FRAME] - f2[LOWER_FRAME:UPPER_FRAME])>THRESHOLD\n",
    "    return [diff.sum(axis=0),diff]\n",
    "\n",
    "def get_image(file_name):\n",
    "    return misc.imread(file_name)"
   ]
  },
  {
   "cell_type": "code",
   "execution_count": 33,
   "metadata": {
    "collapsed": false
   },
   "outputs": [],
   "source": [
    "frame_compares_sum = []\n",
    "frame_compares = []\n",
    "frame_images = []\n",
    "\n",
    "images_to_process = image_labels[:1000]\n",
    "for index, value in images_to_process[:-1].iteritems():\n",
    "    curr_image = IMAGE_FOLDER_PATH + index\n",
    "    next_image_index = image_labels.index.get_loc(index)+1\n",
    "    next_image_key = IMAGE_FOLDER_PATH + image_labels.keys()[next_image_index]\n",
    "    out = comapare_frames(curr_image, next_image_key)\n",
    "    frame_compares.append(out[1])\n",
    "    frame_compares_sum.append(out[0])\n",
    "    frame_images.append(get_image(next_image_key))"
   ]
  },
  {
   "cell_type": "code",
   "execution_count": 34,
   "metadata": {
    "collapsed": false
   },
   "outputs": [],
   "source": [
    "\"\"\"\n",
    "A simple example of an animated plot\n",
    "\"\"\"\n",
    "import numpy as np\n",
    "import matplotlib.pyplot as plt\n",
    "import matplotlib.animation as animation\n",
    "\n",
    "fig, ax = plt.subplots()\n",
    "\n",
    "x = np.arange(0, 2*np.pi, 0.01)        # x-array\n",
    "line, = ax.plot(frame_compares_sum[0])\n",
    "\n",
    "def animate(i):\n",
    "    line.set_ydata(frame_compares_sum[i])  # update the data\n",
    "    return line,\n",
    "\n",
    "#Init only required for blitting to give a clean slate.\n",
    "def init():\n",
    "    line.set_ydata(frame_compares_sum[0])\n",
    "    return line,\n",
    "\n",
    "ani = animation.FuncAnimation(fig, animate, np.arange(1, 99), init_func=init,\n",
    "    interval=100, blit=False)\n",
    "plt.show()"
   ]
  },
  {
   "cell_type": "code",
   "execution_count": 106,
   "metadata": {
    "collapsed": false
   },
   "outputs": [],
   "source": [
    "fig, (ax1, ax2, ax3) = plt.subplots(3,1)\n",
    "\n",
    "im = ax1.imshow(frame_images[0][LOWER_FRAME:UPPER_FRAME], animated=True)\n",
    "im2 = ax2.imshow(frame_compares[0], animated=True)\n",
    "im3, = ax3.plot(frame_compares_sum[0])\n",
    "\n",
    "line = [im, im2, im3]\n",
    "\n",
    "def updatefig(i):\n",
    "    line[0].set_array(frame_images[i][LOWER_FRAME:UPPER_FRAME])\n",
    "    line[1].set_array(frame_compares[i])\n",
    "    line[2].set_ydata(frame_compares_sum[i])   \n",
    "    return line\n",
    "\n",
    "ani = animation.FuncAnimation(fig, \n",
    "                              updatefig,\n",
    "                              np.arange(200, 300),\n",
    "                              interval=150,\n",
    "                              blit=True)\n",
    "plt.show()"
   ]
  },
  {
   "cell_type": "code",
   "execution_count": 52,
   "metadata": {
    "collapsed": false
   },
   "outputs": [],
   "source": [
    "ani.save('animation.gif', writer='imagemagick', fps=10)"
   ]
  },
  {
   "cell_type": "code",
   "execution_count": null,
   "metadata": {
    "collapsed": true
   },
   "outputs": [],
   "source": []
  }
 ],
 "metadata": {
  "kernelspec": {
   "display_name": "Python 3",
   "language": "python",
   "name": "python3"
  },
  "language_info": {
   "codemirror_mode": {
    "name": "ipython",
    "version": 3
   },
   "file_extension": ".py",
   "mimetype": "text/x-python",
   "name": "python",
   "nbconvert_exporter": "python",
   "pygments_lexer": "ipython3",
   "version": "3.5.2"
  }
 },
 "nbformat": 4,
 "nbformat_minor": 0
}
