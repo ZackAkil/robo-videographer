{
 "cells": [
  {
   "cell_type": "code",
   "execution_count": 17,
   "metadata": {
    "collapsed": true
   },
   "outputs": [],
   "source": [
    "from os import listdir\n",
    "from os.path import isfile, join\n",
    "import pandas as pd"
   ]
  },
  {
   "cell_type": "code",
   "execution_count": 14,
   "metadata": {
    "collapsed": true
   },
   "outputs": [],
   "source": [
    "mypath = '/Users/zackakil/Desktop/capture'"
   ]
  },
  {
   "cell_type": "code",
   "execution_count": 58,
   "metadata": {
    "collapsed": true
   },
   "outputs": [],
   "source": [
    "def get_file_names(folder_name):\n",
    "    onlyfiles = [f for f in listdir(folder_name) if isfile(join(folder_name, f))]\n",
    "    file_names = pd.Series(onlyfiles)\n",
    "    return file_names[file_names.str.contains('jpg')].sort_values()"
   ]
  },
  {
   "cell_type": "code",
   "execution_count": 60,
   "metadata": {
    "collapsed": false
   },
   "outputs": [],
   "source": [
    "images = get_file_names(mypath)"
   ]
  },
  {
   "cell_type": "code",
   "execution_count": 158,
   "metadata": {
    "collapsed": false
   },
   "outputs": [],
   "source": [
    "def get_index(images, file_name):\n",
    "    return images[images == file_name].index[0]"
   ]
  },
  {
   "cell_type": "code",
   "execution_count": 172,
   "metadata": {
    "collapsed": false
   },
   "outputs": [],
   "source": [
    "def get_next_file_name(images, file_name, step=1):\n",
    "    i = get_index(images, file_name)\n",
    "    return images.loc[i+step]"
   ]
  },
  {
   "cell_type": "code",
   "execution_count": 115,
   "metadata": {
    "collapsed": true
   },
   "outputs": [],
   "source": [
    "pos_store = {}"
   ]
  },
  {
   "cell_type": "code",
   "execution_count": 116,
   "metadata": {
    "collapsed": true
   },
   "outputs": [],
   "source": [
    "def set_image_pos_value(file_name, pos_value):\n",
    "    pos_store[file_name] = pos_value"
   ]
  },
  {
   "cell_type": "code",
   "execution_count": 124,
   "metadata": {
    "collapsed": true
   },
   "outputs": [],
   "source": [
    "set_image_pos_value('14893d561e24.7s7.jpg', None)"
   ]
  },
  {
   "cell_type": "code",
   "execution_count": 121,
   "metadata": {
    "collapsed": true
   },
   "outputs": [],
   "source": [
    "def get_image_pos_value(file_name):\n",
    "    return pos_store['file_name']"
   ]
  },
  {
   "cell_type": "code",
   "execution_count": 135,
   "metadata": {
    "collapsed": true
   },
   "outputs": [],
   "source": [
    "def get_latest_unlabeled_image_file_name(pos_store, file_names):\n",
    "    for f in file_names:\n",
    "        if f not in pos_store.keys():\n",
    "            return f"
   ]
  },
  {
   "cell_type": "code",
   "execution_count": 139,
   "metadata": {
    "collapsed": false
   },
   "outputs": [
    {
     "data": {
      "text/plain": [
       "{'148927615196.jpg': 9,\n",
       " '148927615359.jpg': 9,\n",
       " '148927615523.jpg': 9,\n",
       " '148927615687.jpg': 9,\n",
       " '148927615851.jpg': 9,\n",
       " '148927635654.jpg': 9,\n",
       " '148927635816.jpg': 9,\n",
       " '14892763598.jpg': 9,\n",
       " '148927636144.jpg': 9,\n",
       " '148927636309.jpg': 9,\n",
       " '1489356109.51.jpg': 9,\n",
       " '1489356110.13.jpg': 9,\n",
       " '1489356110.81.jpg': 9,\n",
       " '1489356111.53.jpg': 9,\n",
       " '1489356112.3.jpg': 9,\n",
       " '1489356113.08.jpg': 9,\n",
       " '1489356113.88.jpg': 9,\n",
       " '1489356114.69.jpg': 9,\n",
       " '1489356115.51.jpg': 9,\n",
       " '1489356116.33.jpg': 9,\n",
       " '1489356124.77.jpg': None,\n",
       " '1489356124.7s7.jpg': None,\n",
       " '14893561e24.7s7.jpg': None,\n",
       " '14893d561e24.7s7.jpg': None}"
      ]
     },
     "execution_count": 139,
     "metadata": {},
     "output_type": "execute_result"
    }
   ],
   "source": [
    "pos_store"
   ]
  },
  {
   "cell_type": "code",
   "execution_count": 178,
   "metadata": {
    "collapsed": false
   },
   "outputs": [
    {
     "data": {
      "text/plain": [
       "'1489356117.16.jpg'"
      ]
     },
     "execution_count": 178,
     "metadata": {},
     "output_type": "execute_result"
    }
   ],
   "source": [
    "get_latest_unlabeled_image_file_name(pos_store, file_names)"
   ]
  },
  {
   "cell_type": "code",
   "execution_count": 179,
   "metadata": {
    "collapsed": false
   },
   "outputs": [
    {
     "data": {
      "text/plain": [
       "'1489356118.0.jpg'"
      ]
     },
     "execution_count": 179,
     "metadata": {},
     "output_type": "execute_result"
    }
   ],
   "source": [
    "get_next_file_name(file_names,'1489356117.16.jpg')"
   ]
  },
  {
   "cell_type": "code",
   "execution_count": null,
   "metadata": {
    "collapsed": true
   },
   "outputs": [],
   "source": []
  }
 ],
 "metadata": {
  "anaconda-cloud": {},
  "kernelspec": {
   "display_name": "Python [default]",
   "language": "python",
   "name": "python3"
  },
  "language_info": {
   "codemirror_mode": {
    "name": "ipython",
    "version": 3
   },
   "file_extension": ".py",
   "mimetype": "text/x-python",
   "name": "python",
   "nbconvert_exporter": "python",
   "pygments_lexer": "ipython3",
   "version": "3.5.2"
  }
 },
 "nbformat": 4,
 "nbformat_minor": 1
}
