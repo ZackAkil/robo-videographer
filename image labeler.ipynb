{
 "cells": [
  {
   "cell_type": "code",
   "execution_count": 2,
   "metadata": {
    "collapsed": true
   },
   "outputs": [],
   "source": [
    "from os import listdir\n",
    "from os.path import isfile, join\n",
    "import pandas as pd"
   ]
  },
  {
   "cell_type": "code",
   "execution_count": null,
   "metadata": {
    "collapsed": true
   },
   "outputs": [],
   "source": []
  },
  {
   "cell_type": "code",
   "execution_count": 13,
   "metadata": {
    "collapsed": false
   },
   "outputs": [],
   "source": [
    "class Image_Label_Cycler():\n",
    "    '''\n",
    "    Class for managing the navigation through and labeling of a\n",
    "    folder of images that are labeled by epoch (in seconds).\n",
    "    e.g 18279712.786.jpg\n",
    "\n",
    "    '''\n",
    "    image_folder_path = ''\n",
    "    file_names = None\n",
    "    pos_store = {}\n",
    "\n",
    "    def get_file_names(self):\n",
    "        onlyfiles = [f for f in listdir(self.image_folder_path) if isfile(join(self.image_folder_path, f))]\n",
    "        all_file_names = pd.Series(onlyfiles)\n",
    "        self.file_names = all_file_names[all_file_names.str.contains('jpg')].sort_values()\n",
    "        return self.file_names\n",
    "\n",
    "    def get_index(self, file_name):\n",
    "        return self.file_names[self.file_names == file_name].index[0]\n",
    "\n",
    "    def get_next_file_name(self, file_name, step=1):\n",
    "        i = self.get_index(file_name)\n",
    "        return self.file_names.loc[i+step]\n",
    "\n",
    "    def set_image_pos_value(self, file_name, pos_value):\n",
    "        self.pos_store[file_name] = pos_value\n",
    "\n",
    "    def get_image_pos_value(self, file_name):\n",
    "        return self.pos_store['file_name']\n",
    "\n",
    "    def get_latest_unlabeled_image_file_name(self):\n",
    "        for f in self.file_names:\n",
    "            if f not in self.pos_store.keys():\n",
    "                return f\n",
    "\n",
    "    def save_labels(self, file_name):\n",
    "        pd.Series(self.pos_store).to_csv(file_name)\n",
    "\n",
    "    def load_labels(self, file_name):\n",
    "        label_sr = pd.Series().from_csv(file_name)\n",
    "        self.pos_store = label_sr.to_dict()\n",
    "        return self.pos_store\n",
    "    \n",
    "    def __init__(self, image_folder_path, label_csv_file_name = None):\n",
    "        self.image_folder_path = image_folder_path\n",
    "        self.get_file_names()\n",
    "        if label_csv_file_name:\n",
    "            self.load_labels(label_csv_file_name)"
   ]
  },
  {
   "cell_type": "code",
   "execution_count": 4,
   "metadata": {
    "collapsed": false
   },
   "outputs": [],
   "source": [
    "images = get_file_names(my_path)"
   ]
  },
  {
   "cell_type": "code",
   "execution_count": 21,
   "metadata": {
    "collapsed": true
   },
   "outputs": [],
   "source": [
    "for i in range(10):\n",
    "    set_image_pos_value('14893d561e24.7s{0}.jpg'.format(i), i*10)"
   ]
  },
  {
   "cell_type": "code",
   "execution_count": 24,
   "metadata": {
    "collapsed": false
   },
   "outputs": [
    {
     "data": {
      "text/plain": [
       "{'14893d561e24.7s0.jpg': 0,\n",
       " '14893d561e24.7s1.jpg': 10,\n",
       " '14893d561e24.7s2.jpg': 20,\n",
       " '14893d561e24.7s3.jpg': 30,\n",
       " '14893d561e24.7s4.jpg': 40,\n",
       " '14893d561e24.7s5.jpg': 50,\n",
       " '14893d561e24.7s6.jpg': 60,\n",
       " '14893d561e24.7s7.jpg': 70,\n",
       " '14893d561e24.7s8.jpg': 80,\n",
       " '14893d561e24.7s9.jpg': 90}"
      ]
     },
     "execution_count": 24,
     "metadata": {},
     "output_type": "execute_result"
    }
   ],
   "source": [
    "pos_store"
   ]
  },
  {
   "cell_type": "code",
   "execution_count": 25,
   "metadata": {
    "collapsed": false
   },
   "outputs": [
    {
     "data": {
      "text/plain": [
       "'1489356109.51.jpg'"
      ]
     },
     "execution_count": 25,
     "metadata": {},
     "output_type": "execute_result"
    }
   ],
   "source": [
    "get_latest_unlabeled_image_file_name(pos_store, images)"
   ]
  },
  {
   "cell_type": "code",
   "execution_count": 26,
   "metadata": {
    "collapsed": false
   },
   "outputs": [
    {
     "data": {
      "text/plain": [
       "'1489356118.0.jpg'"
      ]
     },
     "execution_count": 26,
     "metadata": {},
     "output_type": "execute_result"
    }
   ],
   "source": [
    "get_next_file_name(images,'1489356117.16.jpg')"
   ]
  },
  {
   "cell_type": "code",
   "execution_count": 35,
   "metadata": {
    "collapsed": true
   },
   "outputs": [],
   "source": [
    "save_labels(pos_store, 'tes.csv')"
   ]
  },
  {
   "cell_type": "code",
   "execution_count": 36,
   "metadata": {
    "collapsed": false
   },
   "outputs": [
    {
     "data": {
      "text/plain": [
       "{'14893d561e24.7s0.jpg': 0,\n",
       " '14893d561e24.7s1.jpg': 10,\n",
       " '14893d561e24.7s2.jpg': 20,\n",
       " '14893d561e24.7s3.jpg': 30,\n",
       " '14893d561e24.7s4.jpg': 40,\n",
       " '14893d561e24.7s5.jpg': 50,\n",
       " '14893d561e24.7s6.jpg': 60,\n",
       " '14893d561e24.7s7.jpg': 70,\n",
       " '14893d561e24.7s8.jpg': 80,\n",
       " '14893d561e24.7s9.jpg': 90}"
      ]
     },
     "execution_count": 36,
     "metadata": {},
     "output_type": "execute_result"
    }
   ],
   "source": [
    "load_labels('tes.csv')"
   ]
  },
  {
   "cell_type": "code",
   "execution_count": 38,
   "metadata": {
    "collapsed": true
   },
   "outputs": [],
   "source": [
    "import datetime"
   ]
  },
  {
   "cell_type": "code",
   "execution_count": 47,
   "metadata": {
    "collapsed": false
   },
   "outputs": [
    {
     "data": {
      "text/plain": [
       "'2017-03-22 11:07'"
      ]
     },
     "execution_count": 47,
     "metadata": {},
     "output_type": "execute_result"
    }
   ],
   "source": [
    "str(datetime.datetime.now())[:16]"
   ]
  },
  {
   "cell_type": "code",
   "execution_count": null,
   "metadata": {
    "collapsed": true
   },
   "outputs": [],
   "source": []
  }
 ],
 "metadata": {
  "anaconda-cloud": {},
  "kernelspec": {
   "display_name": "Python 3",
   "language": "python",
   "name": "python3"
  },
  "language_info": {
   "codemirror_mode": {
    "name": "ipython",
    "version": 3
   },
   "file_extension": ".py",
   "mimetype": "text/x-python",
   "name": "python",
   "nbconvert_exporter": "python",
   "pygments_lexer": "ipython3",
   "version": "3.5.2"
  }
 },
 "nbformat": 4,
 "nbformat_minor": 1
}
