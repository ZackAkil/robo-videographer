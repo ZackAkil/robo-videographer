{
 "cells": [
  {
   "cell_type": "code",
   "execution_count": null,
   "metadata": {
    "collapsed": true
   },
   "outputs": [],
   "source": [
    "from SimpleCV import *\n",
    "import time\n",
    "import numpy"
   ]
  },
  {
   "cell_type": "code",
   "execution_count": null,
   "metadata": {
    "collapsed": false
   },
   "outputs": [],
   "source": [
    "cam = Camera()"
   ]
  },
  {
   "cell_type": "code",
   "execution_count": null,
   "metadata": {
    "collapsed": true
   },
   "outputs": [],
   "source": [
    "def get_average_activity_pos(img):\n",
    "    val = img.getNumpy()\n",
    "    activity = (val[:,:,1] < 1)\n",
    "    count = 0\n",
    "    total = (0,0)\n",
    "    for i in xrange(val.shape[0]):\n",
    "        for j in xrange(val.shape[1]):\n",
    "            if activity[i,j]:\n",
    "                count += 1\n",
    "                total = (total[0]+i, total[1]+j)\n",
    "    if count:\n",
    "        return [(total[0]/count, total[1]/count), count]\n",
    "    else:\n",
    "        return [(0,0),0]"
   ]
  },
  {
   "cell_type": "code",
   "execution_count": null,
   "metadata": {
    "collapsed": true
   },
   "outputs": [],
   "source": [
    "def draw_circle(img, pos):\n",
    "    overlay = DrawingLayer((img.width, img.height))\n",
    "    overlay.circle(pos, 10, color=Color.RED)\n",
    "    img.addDrawingLayer(overlay)\n",
    "    img.applyLayers()"
   ]
  },
  {
   "cell_type": "code",
   "execution_count": null,
   "metadata": {
    "collapsed": true
   },
   "outputs": [],
   "source": [
    "def draw_box(img, pos):\n",
    "    overlay = DrawingLayer((img.width, img.height))\n",
    "    overlay.centeredRectangle(pos,(100,100), color=Color.RED)\n",
    "    img.addDrawingLayer(overlay)\n",
    "    img.applyLayers()"
   ]
  },
  {
   "cell_type": "code",
   "execution_count": null,
   "metadata": {
    "collapsed": false
   },
   "outputs": [],
   "source": [
    "def move_towards_target(activity_pos, view_box):\n",
    "\n",
    "    diff = activity_pos[0] - view_box[0]\n",
    "    mov = diff/5 \n",
    "    mov = 20 if 0 < mov < 20 else mov\n",
    "    print mov\n",
    "    return [view_box[0]+mov,view_box[1]]"
   ]
  },
  {
   "cell_type": "code",
   "execution_count": null,
   "metadata": {
    "collapsed": false
   },
   "outputs": [],
   "source": [
    "test = cam.getImage() \n",
    "camera_view = [test.width/2, test.height/2]\n",
    "last_scene = [0,0]\n",
    "for i in range(50):\n",
    "    first = cam.getImage() \n",
    "    time.sleep(0.05)\n",
    "    second = cam.getImage() \n",
    "    img = (first-second).binarize(20)\n",
    "    [pos,weight]= get_average_activity_pos(img)\n",
    "    if weight > 500:\n",
    "        draw_circle(first, pos)\n",
    "        last_scene = [pos[0], pos[1]]\n",
    "    txt = \"Activity:\" + str(weight)\n",
    "    first.drawText(txt)\n",
    "    camera_view = move_towards_target(last_scene, camera_view)\n",
    "    draw_box(first, camera_view)\n",
    "    win = first.show()"
   ]
  },
  {
   "cell_type": "code",
   "execution_count": null,
   "metadata": {
    "collapsed": true
   },
   "outputs": [],
   "source": [
    "win.quit()"
   ]
  }
 ],
 "metadata": {
  "kernelspec": {
   "display_name": "Python 3",
   "language": "python",
   "name": "python3"
  },
  "language_info": {
   "codemirror_mode": {
    "name": "ipython",
    "version": 3
   },
   "file_extension": ".py",
   "mimetype": "text/x-python",
   "name": "python",
   "nbconvert_exporter": "python",
   "pygments_lexer": "ipython3",
   "version": "3.5.2"
  }
 },
 "nbformat": 4,
 "nbformat_minor": 1
}
