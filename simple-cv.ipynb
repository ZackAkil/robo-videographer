{
 "cells": [
  {
   "cell_type": "code",
   "execution_count": null,
   "metadata": {
    "collapsed": true
   },
   "outputs": [],
   "source": [
    "from SimpleCV import *\n",
    "import time\n",
    "import numpy"
   ]
  },
  {
   "cell_type": "code",
   "execution_count": null,
   "metadata": {
    "collapsed": false
   },
   "outputs": [],
   "source": [
    "cam = Camera()"
   ]
  },
  {
   "cell_type": "code",
   "execution_count": null,
   "metadata": {
    "collapsed": true
   },
   "outputs": [],
   "source": [
    "def get_average_activity_pos(img):\n",
    "    val = img.getNumpy()\n",
    "    activity = (val[:,:,1] < 1)\n",
    "    count = 0\n",
    "    total = (0,0)\n",
    "    for i in xrange(val.shape[0]):\n",
    "        for j in xrange(val.shape[1]):\n",
    "            if activity[i,j]:\n",
    "                count += 1\n",
    "                total = (total[0]+i, total[1]+j)\n",
    "    if count:\n",
    "        return (total[0]/count, total[1]/count)\n",
    "    else:\n",
    "        return (0,0) "
   ]
  },
  {
   "cell_type": "code",
   "execution_count": null,
   "metadata": {
    "collapsed": true
   },
   "outputs": [],
   "source": [
    "def draw_circle(img, pos):\n",
    "    overlay = DrawingLayer((img.width, img.height))\n",
    "    overlay.circle(pos, 10, color=Color.RED)\n",
    "    img.addDrawingLayer(overlay)\n",
    "    img.applyLayers()"
   ]
  },
  {
   "cell_type": "code",
   "execution_count": null,
   "metadata": {
    "collapsed": false
   },
   "outputs": [],
   "source": [
    "for i in range(50):\n",
    "    first = cam.getImage()\n",
    "    time.sleep(0.05)\n",
    "    second = cam.getImage() \n",
    "    img = (first-second).binarize(20)\n",
    "    draw_circle(first, get_average_activity_pos(img))\n",
    "\n",
    "    win = first.show()"
   ]
  },
  {
   "cell_type": "code",
   "execution_count": null,
   "metadata": {
    "collapsed": true
   },
   "outputs": [],
   "source": [
    "win.quit()"
   ]
  }
 ],
 "metadata": {
  "kernelspec": {
   "display_name": "Python 2",
   "language": "python",
   "name": "python2"
  },
  "language_info": {
   "codemirror_mode": {
    "name": "ipython",
    "version": 2
   },
   "file_extension": ".py",
   "mimetype": "text/x-python",
   "name": "python",
   "nbconvert_exporter": "python",
   "pygments_lexer": "ipython2",
   "version": "2.7.12"
  }
 },
 "nbformat": 4,
 "nbformat_minor": 1
}